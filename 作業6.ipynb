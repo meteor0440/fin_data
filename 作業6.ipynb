{
  "nbformat": 4,
  "nbformat_minor": 0,
  "metadata": {
    "colab": {
      "provenance": [],
      "authorship_tag": "ABX9TyNgFveY4bpuFMwRNpfHAbOG",
      "include_colab_link": true
    },
    "kernelspec": {
      "name": "python3",
      "display_name": "Python 3"
    },
    "language_info": {
      "name": "python"
    }
  },
  "cells": [
    {
      "cell_type": "markdown",
      "metadata": {
        "id": "view-in-github",
        "colab_type": "text"
      },
      "source": [
        "<a href=\"https://colab.research.google.com/github/meteor0440/fin_data/blob/main/%E4%BD%9C%E6%A5%AD6.ipynb\" target=\"_parent\"><img src=\"https://colab.research.google.com/assets/colab-badge.svg\" alt=\"Open In Colab\"/></a>"
      ]
    },
    {
      "cell_type": "code",
      "execution_count": 1,
      "metadata": {
        "colab": {
          "base_uri": "https://localhost:8080/"
        },
        "id": "n9jKGfPwsxgf",
        "outputId": "c0c8bc8d-9516-4f89-861a-5110c0253714"
      },
      "outputs": [
        {
          "output_type": "stream",
          "name": "stdout",
          "text": [
            "Requirement already satisfied: yfinance in /usr/local/lib/python3.11/dist-packages (0.2.55)\n",
            "Requirement already satisfied: pandas>=1.3.0 in /usr/local/lib/python3.11/dist-packages (from yfinance) (2.2.2)\n",
            "Requirement already satisfied: numpy>=1.16.5 in /usr/local/lib/python3.11/dist-packages (from yfinance) (2.0.2)\n",
            "Requirement already satisfied: requests>=2.31 in /usr/local/lib/python3.11/dist-packages (from yfinance) (2.32.3)\n",
            "Requirement already satisfied: multitasking>=0.0.7 in /usr/local/lib/python3.11/dist-packages (from yfinance) (0.0.11)\n",
            "Requirement already satisfied: platformdirs>=2.0.0 in /usr/local/lib/python3.11/dist-packages (from yfinance) (4.3.7)\n",
            "Requirement already satisfied: pytz>=2022.5 in /usr/local/lib/python3.11/dist-packages (from yfinance) (2025.2)\n",
            "Requirement already satisfied: frozendict>=2.3.4 in /usr/local/lib/python3.11/dist-packages (from yfinance) (2.4.6)\n",
            "Requirement already satisfied: peewee>=3.16.2 in /usr/local/lib/python3.11/dist-packages (from yfinance) (3.17.9)\n",
            "Requirement already satisfied: beautifulsoup4>=4.11.1 in /usr/local/lib/python3.11/dist-packages (from yfinance) (4.13.3)\n",
            "Requirement already satisfied: soupsieve>1.2 in /usr/local/lib/python3.11/dist-packages (from beautifulsoup4>=4.11.1->yfinance) (2.6)\n",
            "Requirement already satisfied: typing-extensions>=4.0.0 in /usr/local/lib/python3.11/dist-packages (from beautifulsoup4>=4.11.1->yfinance) (4.13.1)\n",
            "Requirement already satisfied: python-dateutil>=2.8.2 in /usr/local/lib/python3.11/dist-packages (from pandas>=1.3.0->yfinance) (2.8.2)\n",
            "Requirement already satisfied: tzdata>=2022.7 in /usr/local/lib/python3.11/dist-packages (from pandas>=1.3.0->yfinance) (2025.2)\n",
            "Requirement already satisfied: charset-normalizer<4,>=2 in /usr/local/lib/python3.11/dist-packages (from requests>=2.31->yfinance) (3.4.1)\n",
            "Requirement already satisfied: idna<4,>=2.5 in /usr/local/lib/python3.11/dist-packages (from requests>=2.31->yfinance) (3.10)\n",
            "Requirement already satisfied: urllib3<3,>=1.21.1 in /usr/local/lib/python3.11/dist-packages (from requests>=2.31->yfinance) (2.3.0)\n",
            "Requirement already satisfied: certifi>=2017.4.17 in /usr/local/lib/python3.11/dist-packages (from requests>=2.31->yfinance) (2025.1.31)\n",
            "Requirement already satisfied: six>=1.5 in /usr/local/lib/python3.11/dist-packages (from python-dateutil>=2.8.2->pandas>=1.3.0->yfinance) (1.17.0)\n",
            "YF.download() has changed argument auto_adjust default to True\n"
          ]
        },
        {
          "output_type": "stream",
          "name": "stderr",
          "text": [
            "\r[*********************100%***********************]  1 of 1 completed"
          ]
        },
        {
          "output_type": "stream",
          "name": "stdout",
          "text": [
            "Price             Close         High          Low         Open    Volume\n",
            "Ticker          2330.TW      2330.TW      2330.TW      2330.TW   2330.TW\n",
            "Date                                                                    \n",
            "2025-01-02  1060.059204  1070.012812  1050.105597  1065.036008  43177098\n",
            "2025-01-03  1070.012817  1079.966425  1070.012817  1074.989621  30415096\n",
            "2025-01-06  1119.780884  1119.780884  1089.920060  1094.896864  69289786\n",
            "2025-01-07  1124.757690  1154.618514  1124.757690  1144.664906  48758688\n",
            "2025-01-08  1099.873657  1124.757677  1099.873657  1104.850461  45211419\n",
            "2025-01-09  1094.896851  1109.827262  1094.896851  1094.896851  27263215\n",
            "2025-01-10  1094.896851  1104.850458  1094.896851  1094.896851  22021522\n",
            "2025-01-13  1070.012817  1109.827248  1065.036014  1104.850444  56690300\n",
            "2025-01-14  1084.943237  1084.943237  1070.012826  1079.966433  28695247\n",
            "2025-01-15  1060.059204  1079.966419  1060.059204  1079.966419  35489482\n",
            "2025-01-16  1099.873657  1109.827265  1084.943246  1089.920049  47542962\n",
            "2025-01-17  1114.804077  1119.780881  1089.920058  1119.780881  59214050\n",
            "2025-01-20  1114.804077  1129.734489  1114.804077  1119.780881  29834528\n",
            "2025-01-21  1114.804077  1119.780881  1104.850469  1109.827273  21904213\n",
            "2025-01-22  1129.734497  1144.664909  1129.734497  1134.711301  42960405\n",
            "2025-02-03  1065.036011  1070.012815  1055.082403  1060.059207  97946226\n",
            "2025-02-04  1089.920044  1094.896848  1074.989632  1079.966436  53308108\n",
            "2025-02-05  1104.850464  1114.804072  1099.873660  1104.850464  40385340\n",
            "2025-02-06  1109.827271  1114.804074  1099.873663  1114.804074  29971252\n",
            "2025-02-07  1119.780884  1119.780884  1099.873668  1104.850472  27883220\n",
            "2025-02-10  1099.873657  1119.780873  1089.920049  1119.780873  28527108\n",
            "2025-02-11  1104.850464  1109.827268  1094.896856  1104.850464  18898928\n",
            "2025-02-12  1094.896851  1109.827262  1094.896851  1104.850458  24172954\n",
            "2025-02-13  1084.943237  1089.920041  1074.989630  1084.943237  33210403\n",
            "2025-02-14  1055.082397  1065.036005  1055.082397  1060.059201  64486940\n",
            "2025-02-17  1079.966431  1079.966431  1060.059215  1060.059215  35491271\n",
            "2025-02-18  1094.896851  1094.896851  1074.989635  1079.966439  21616188\n",
            "2025-02-19  1084.943237  1089.920041  1079.966433  1084.943237  26400293\n",
            "2025-02-20  1074.989624  1079.966428  1065.036016  1074.989624  29643124\n",
            "2025-02-21  1089.920044  1089.920044  1074.989632  1079.966436  28972910\n",
            "2025-02-24  1070.012817  1079.966425  1070.012817  1074.989621  30822970\n",
            "2025-02-25  1050.105591  1055.082395  1045.128787  1050.105591  45158522\n",
            "2025-02-26  1055.082397  1055.082397  1040.151986  1040.151986  36768449\n",
            "2025-02-27  1035.175171  1060.059189  1035.175171  1060.059189  55283596\n",
            "2025-03-03  1015.268005  1015.268005   995.360790   995.360790  65621663\n",
            "2025-03-04   995.360779  1005.314387   991.379336   991.379336  64569262\n",
            "2025-03-05  1015.268005  1025.221613  1010.291201  1015.268005  41994320\n",
            "2025-03-06  1000.337585  1020.244801  1000.337585  1015.267997  45187017\n",
            "2025-03-07  1000.337585  1005.314389   995.360782  1000.337585  40822280\n",
            "2025-03-10   993.370056  1000.337582   987.397891  1000.337582  46849886\n",
            "2025-03-11   966.495300   974.458186   958.532414   964.504579  50204233\n",
            "2025-03-12   983.416443   990.383968   971.472114   975.453557  34184887\n",
            "2025-03-13   960.523193  1000.337626   960.523193   995.360822  37035693\n",
            "2025-03-14   954.551025   964.504634   950.569582   960.523190  34333748\n",
            "2025-03-17   965.499939   980.430350   963.509217   972.467464  31491061\n",
            "2025-03-18   971.000000   978.000000   968.000000   976.000000  21575327\n",
            "2025-03-19   952.000000   967.000000   950.000000   965.000000  35245036\n",
            "2025-03-20   985.000000   985.000000   971.000000   978.000000  28715956\n",
            "2025-03-21   972.000000   987.000000   970.000000   985.000000  39214916\n",
            "2025-03-24   972.000000   987.000000   972.000000   986.000000  16121506\n",
            "2025-03-25   990.000000   995.000000   985.000000   989.000000  26167428\n",
            "2025-03-26   980.000000   995.000000   980.000000   995.000000  21735917\n",
            "2025-03-27   958.000000   964.000000   958.000000   961.000000  34563256\n",
            "2025-03-28   952.000000   955.000000   946.000000   946.000000  33101234\n"
          ]
        },
        {
          "output_type": "stream",
          "name": "stderr",
          "text": [
            "\n"
          ]
        }
      ],
      "source": [
        "!pip install yfinance\n",
        "import yfinance as yf\n",
        "stocks = [\"2330.TW\"]\n",
        "df = yf.download(stocks, start=\"2025-01-01\" ,end=\"2025-03-31\")\n",
        "df.to_csv(\"作業6.csv\")\n",
        "print(df)"
      ]
    },
    {
      "cell_type": "code",
      "source": [
        "import pandas as pd\n",
        "url = \"https://raw.githubusercontent.com/meteor0440/fin_data/refs/heads/main/%E4%BD%9C%E6%A5%AD6.csv\" #陳柏竣_台積電_2330.TW\n",
        "df = pd.read_csv(url, index_col=0)\n",
        "print(df)"
      ],
      "metadata": {
        "colab": {
          "base_uri": "https://localhost:8080/"
        },
        "id": "JKYKD4sW1c1F",
        "outputId": "b0a56e58-cca3-42bb-c018-fa0a676332fa"
      },
      "execution_count": 2,
      "outputs": [
        {
          "output_type": "stream",
          "name": "stdout",
          "text": [
            "              Close     High      Low     Open    Volume\n",
            "Price                                                   \n",
            "Ticker      2330.TW  2330.TW  2330.TW  2330.TW   2330.TW\n",
            "Date            NaN      NaN      NaN      NaN       NaN\n",
            "2025-01-02   1065.0   1075.0   1055.0   1070.0  43177098\n",
            "2025-01-03   1075.0   1085.0   1075.0   1080.0  30415096\n",
            "2025-01-06   1125.0   1125.0   1095.0   1100.0  69289786\n",
            "2025-01-07   1130.0   1160.0   1130.0   1150.0  48758688\n",
            "2025-01-08   1105.0   1130.0   1105.0   1110.0  45211419\n",
            "2025-01-09   1100.0   1115.0   1100.0   1100.0  27263215\n",
            "2025-01-10   1100.0   1110.0   1100.0   1100.0  22021522\n",
            "2025-01-13   1075.0   1115.0   1070.0   1110.0  56690300\n",
            "2025-01-14   1090.0   1090.0   1075.0   1085.0  28695247\n",
            "2025-01-15   1065.0   1085.0   1065.0   1085.0  35489482\n",
            "2025-01-16   1105.0   1115.0   1090.0   1095.0  47542962\n",
            "2025-01-17   1120.0   1125.0   1095.0   1125.0  59214050\n",
            "2025-01-20   1120.0   1135.0   1120.0   1125.0  29834528\n",
            "2025-01-21   1120.0   1125.0   1110.0   1115.0  21904213\n",
            "2025-01-22   1135.0   1150.0   1135.0   1140.0  42960405\n",
            "2025-02-03   1070.0   1075.0   1060.0   1065.0  97946226\n",
            "2025-02-04   1095.0   1100.0   1080.0   1085.0  53308108\n",
            "2025-02-05   1110.0   1120.0   1105.0   1110.0  40385340\n",
            "2025-02-06   1115.0   1120.0   1105.0   1120.0  29971252\n",
            "2025-02-07   1125.0   1125.0   1105.0   1110.0  27883220\n",
            "2025-02-10   1105.0   1125.0   1095.0   1125.0  28527108\n",
            "2025-02-11   1110.0   1115.0   1100.0   1110.0  18898928\n",
            "2025-02-12   1100.0   1115.0   1100.0   1110.0  24172954\n",
            "2025-02-13   1090.0   1095.0   1080.0   1090.0  33210403\n",
            "2025-02-14   1060.0   1070.0   1060.0   1065.0  64486940\n",
            "2025-02-17   1085.0   1085.0   1065.0   1065.0  35491271\n",
            "2025-02-18   1100.0   1100.0   1080.0   1085.0  21616188\n",
            "2025-02-19   1090.0   1095.0   1085.0   1090.0  26400293\n",
            "2025-02-20   1080.0   1085.0   1070.0   1080.0  29643124\n",
            "2025-02-21   1095.0   1095.0   1080.0   1085.0  28972910\n",
            "2025-02-24   1075.0   1085.0   1075.0   1080.0  30822970\n",
            "2025-02-25   1055.0   1060.0   1050.0   1055.0  45158522\n",
            "2025-02-26   1060.0   1060.0   1045.0   1045.0  36768449\n",
            "2025-02-27   1040.0   1065.0   1040.0   1065.0  55283596\n",
            "2025-03-03   1020.0   1020.0   1000.0   1000.0  65621663\n",
            "2025-03-04   1000.0   1010.0    996.0    996.0  64569262\n",
            "2025-03-05   1020.0   1030.0   1015.0   1020.0  41994320\n",
            "2025-03-06   1005.0   1025.0   1005.0   1020.0  45187017\n",
            "2025-03-07   1005.0   1010.0   1000.0   1005.0  40822280\n",
            "2025-03-10    998.0   1005.0    992.0   1005.0  46849886\n",
            "2025-03-11    971.0    979.0    963.0    969.0  50204233\n",
            "2025-03-12    988.0    995.0    976.0    980.0  34184887\n",
            "2025-03-13    965.0   1005.0    965.0   1000.0  37035693\n",
            "2025-03-14    959.0    969.0    955.0    965.0  34333748\n",
            "2025-03-17    970.0    985.0    968.0    977.0  31491061\n",
            "2025-03-18    971.0    978.0    968.0    976.0  21575327\n",
            "2025-03-19    952.0    967.0    950.0    965.0  35245036\n",
            "2025-03-20    985.0    985.0    971.0    978.0  28715956\n",
            "2025-03-21    972.0    987.0    970.0    985.0  39214916\n",
            "2025-03-24    972.0    987.0    972.0    986.0  16121506\n",
            "2025-03-25    990.0    995.0    985.0    989.0  26167428\n",
            "2025-03-26    980.0    995.0    980.0    995.0  21735917\n",
            "2025-03-27    958.0    964.0    958.0    961.0  34563256\n",
            "2025-03-28    952.0    955.0    946.0    946.0  33101234\n"
          ]
        }
      ]
    },
    {
      "cell_type": "code",
      "source": [
        "import pandas as pd\n",
        "url = \"https://raw.githubusercontent.com/Phoebeliang1103/FinanceCourse/refs/heads/main/%E6%A2%81%E7%91%9C%E8%8A%B3_%E4%BD%9C%E6%A5%AD6.csv\" #梁瑜芳_聯電_2303.TW\n",
        "df = pd.read_csv(url, index_col=0)\n",
        "print(df)"
      ],
      "metadata": {
        "colab": {
          "base_uri": "https://localhost:8080/",
          "height": 356
        },
        "id": "MutfaBHc3Ocv",
        "outputId": "12721f5d-2275-4794-cba6-e26b3628abd2"
      },
      "execution_count": 3,
      "outputs": [
        {
          "output_type": "error",
          "ename": "HTTPError",
          "evalue": "HTTP Error 404: Not Found",
          "traceback": [
            "\u001b[0;31m---------------------------------------------------------------------------\u001b[0m",
            "\u001b[0;31mHTTPError\u001b[0m                                 Traceback (most recent call last)",
            "\u001b[0;32m<ipython-input-3-62fba6177c60>\u001b[0m in \u001b[0;36m<cell line: 0>\u001b[0;34m()\u001b[0m\n\u001b[1;32m      1\u001b[0m \u001b[0;32mimport\u001b[0m \u001b[0mpandas\u001b[0m \u001b[0;32mas\u001b[0m \u001b[0mpd\u001b[0m\u001b[0;34m\u001b[0m\u001b[0;34m\u001b[0m\u001b[0m\n\u001b[1;32m      2\u001b[0m \u001b[0murl\u001b[0m \u001b[0;34m=\u001b[0m \u001b[0;34m\"https://raw.githubusercontent.com/Phoebeliang1103/FinanceCourse/refs/heads/main/%E6%A2%81%E7%91%9C%E8%8A%B3_%E4%BD%9C%E6%A5%AD6.csv\"\u001b[0m \u001b[0;31m#梁瑜芳_聯電_2303.TW\u001b[0m\u001b[0;34m\u001b[0m\u001b[0;34m\u001b[0m\u001b[0m\n\u001b[0;32m----> 3\u001b[0;31m \u001b[0mdf\u001b[0m \u001b[0;34m=\u001b[0m \u001b[0mpd\u001b[0m\u001b[0;34m.\u001b[0m\u001b[0mread_csv\u001b[0m\u001b[0;34m(\u001b[0m\u001b[0murl\u001b[0m\u001b[0;34m,\u001b[0m \u001b[0mindex_col\u001b[0m\u001b[0;34m=\u001b[0m\u001b[0;36m0\u001b[0m\u001b[0;34m)\u001b[0m\u001b[0;34m\u001b[0m\u001b[0;34m\u001b[0m\u001b[0m\n\u001b[0m\u001b[1;32m      4\u001b[0m \u001b[0mprint\u001b[0m\u001b[0;34m(\u001b[0m\u001b[0mdf\u001b[0m\u001b[0;34m)\u001b[0m\u001b[0;34m\u001b[0m\u001b[0;34m\u001b[0m\u001b[0m\n",
            "\u001b[0;32m/usr/local/lib/python3.11/dist-packages/pandas/io/parsers/readers.py\u001b[0m in \u001b[0;36mread_csv\u001b[0;34m(filepath_or_buffer, sep, delimiter, header, names, index_col, usecols, dtype, engine, converters, true_values, false_values, skipinitialspace, skiprows, skipfooter, nrows, na_values, keep_default_na, na_filter, verbose, skip_blank_lines, parse_dates, infer_datetime_format, keep_date_col, date_parser, date_format, dayfirst, cache_dates, iterator, chunksize, compression, thousands, decimal, lineterminator, quotechar, quoting, doublequote, escapechar, comment, encoding, encoding_errors, dialect, on_bad_lines, delim_whitespace, low_memory, memory_map, float_precision, storage_options, dtype_backend)\u001b[0m\n\u001b[1;32m   1024\u001b[0m     \u001b[0mkwds\u001b[0m\u001b[0;34m.\u001b[0m\u001b[0mupdate\u001b[0m\u001b[0;34m(\u001b[0m\u001b[0mkwds_defaults\u001b[0m\u001b[0;34m)\u001b[0m\u001b[0;34m\u001b[0m\u001b[0;34m\u001b[0m\u001b[0m\n\u001b[1;32m   1025\u001b[0m \u001b[0;34m\u001b[0m\u001b[0m\n\u001b[0;32m-> 1026\u001b[0;31m     \u001b[0;32mreturn\u001b[0m \u001b[0m_read\u001b[0m\u001b[0;34m(\u001b[0m\u001b[0mfilepath_or_buffer\u001b[0m\u001b[0;34m,\u001b[0m \u001b[0mkwds\u001b[0m\u001b[0;34m)\u001b[0m\u001b[0;34m\u001b[0m\u001b[0;34m\u001b[0m\u001b[0m\n\u001b[0m\u001b[1;32m   1027\u001b[0m \u001b[0;34m\u001b[0m\u001b[0m\n\u001b[1;32m   1028\u001b[0m \u001b[0;34m\u001b[0m\u001b[0m\n",
            "\u001b[0;32m/usr/local/lib/python3.11/dist-packages/pandas/io/parsers/readers.py\u001b[0m in \u001b[0;36m_read\u001b[0;34m(filepath_or_buffer, kwds)\u001b[0m\n\u001b[1;32m    618\u001b[0m \u001b[0;34m\u001b[0m\u001b[0m\n\u001b[1;32m    619\u001b[0m     \u001b[0;31m# Create the parser.\u001b[0m\u001b[0;34m\u001b[0m\u001b[0;34m\u001b[0m\u001b[0m\n\u001b[0;32m--> 620\u001b[0;31m     \u001b[0mparser\u001b[0m \u001b[0;34m=\u001b[0m \u001b[0mTextFileReader\u001b[0m\u001b[0;34m(\u001b[0m\u001b[0mfilepath_or_buffer\u001b[0m\u001b[0;34m,\u001b[0m \u001b[0;34m**\u001b[0m\u001b[0mkwds\u001b[0m\u001b[0;34m)\u001b[0m\u001b[0;34m\u001b[0m\u001b[0;34m\u001b[0m\u001b[0m\n\u001b[0m\u001b[1;32m    621\u001b[0m \u001b[0;34m\u001b[0m\u001b[0m\n\u001b[1;32m    622\u001b[0m     \u001b[0;32mif\u001b[0m \u001b[0mchunksize\u001b[0m \u001b[0;32mor\u001b[0m \u001b[0miterator\u001b[0m\u001b[0;34m:\u001b[0m\u001b[0;34m\u001b[0m\u001b[0;34m\u001b[0m\u001b[0m\n",
            "\u001b[0;32m/usr/local/lib/python3.11/dist-packages/pandas/io/parsers/readers.py\u001b[0m in \u001b[0;36m__init__\u001b[0;34m(self, f, engine, **kwds)\u001b[0m\n\u001b[1;32m   1618\u001b[0m \u001b[0;34m\u001b[0m\u001b[0m\n\u001b[1;32m   1619\u001b[0m         \u001b[0mself\u001b[0m\u001b[0;34m.\u001b[0m\u001b[0mhandles\u001b[0m\u001b[0;34m:\u001b[0m \u001b[0mIOHandles\u001b[0m \u001b[0;34m|\u001b[0m \u001b[0;32mNone\u001b[0m \u001b[0;34m=\u001b[0m \u001b[0;32mNone\u001b[0m\u001b[0;34m\u001b[0m\u001b[0;34m\u001b[0m\u001b[0m\n\u001b[0;32m-> 1620\u001b[0;31m         \u001b[0mself\u001b[0m\u001b[0;34m.\u001b[0m\u001b[0m_engine\u001b[0m \u001b[0;34m=\u001b[0m \u001b[0mself\u001b[0m\u001b[0;34m.\u001b[0m\u001b[0m_make_engine\u001b[0m\u001b[0;34m(\u001b[0m\u001b[0mf\u001b[0m\u001b[0;34m,\u001b[0m \u001b[0mself\u001b[0m\u001b[0;34m.\u001b[0m\u001b[0mengine\u001b[0m\u001b[0;34m)\u001b[0m\u001b[0;34m\u001b[0m\u001b[0;34m\u001b[0m\u001b[0m\n\u001b[0m\u001b[1;32m   1621\u001b[0m \u001b[0;34m\u001b[0m\u001b[0m\n\u001b[1;32m   1622\u001b[0m     \u001b[0;32mdef\u001b[0m \u001b[0mclose\u001b[0m\u001b[0;34m(\u001b[0m\u001b[0mself\u001b[0m\u001b[0;34m)\u001b[0m \u001b[0;34m->\u001b[0m \u001b[0;32mNone\u001b[0m\u001b[0;34m:\u001b[0m\u001b[0;34m\u001b[0m\u001b[0;34m\u001b[0m\u001b[0m\n",
            "\u001b[0;32m/usr/local/lib/python3.11/dist-packages/pandas/io/parsers/readers.py\u001b[0m in \u001b[0;36m_make_engine\u001b[0;34m(self, f, engine)\u001b[0m\n\u001b[1;32m   1878\u001b[0m                 \u001b[0;32mif\u001b[0m \u001b[0;34m\"b\"\u001b[0m \u001b[0;32mnot\u001b[0m \u001b[0;32min\u001b[0m \u001b[0mmode\u001b[0m\u001b[0;34m:\u001b[0m\u001b[0;34m\u001b[0m\u001b[0;34m\u001b[0m\u001b[0m\n\u001b[1;32m   1879\u001b[0m                     \u001b[0mmode\u001b[0m \u001b[0;34m+=\u001b[0m \u001b[0;34m\"b\"\u001b[0m\u001b[0;34m\u001b[0m\u001b[0;34m\u001b[0m\u001b[0m\n\u001b[0;32m-> 1880\u001b[0;31m             self.handles = get_handle(\n\u001b[0m\u001b[1;32m   1881\u001b[0m                 \u001b[0mf\u001b[0m\u001b[0;34m,\u001b[0m\u001b[0;34m\u001b[0m\u001b[0;34m\u001b[0m\u001b[0m\n\u001b[1;32m   1882\u001b[0m                 \u001b[0mmode\u001b[0m\u001b[0;34m,\u001b[0m\u001b[0;34m\u001b[0m\u001b[0;34m\u001b[0m\u001b[0m\n",
            "\u001b[0;32m/usr/local/lib/python3.11/dist-packages/pandas/io/common.py\u001b[0m in \u001b[0;36mget_handle\u001b[0;34m(path_or_buf, mode, encoding, compression, memory_map, is_text, errors, storage_options)\u001b[0m\n\u001b[1;32m    726\u001b[0m \u001b[0;34m\u001b[0m\u001b[0m\n\u001b[1;32m    727\u001b[0m     \u001b[0;31m# open URLs\u001b[0m\u001b[0;34m\u001b[0m\u001b[0;34m\u001b[0m\u001b[0m\n\u001b[0;32m--> 728\u001b[0;31m     ioargs = _get_filepath_or_buffer(\n\u001b[0m\u001b[1;32m    729\u001b[0m         \u001b[0mpath_or_buf\u001b[0m\u001b[0;34m,\u001b[0m\u001b[0;34m\u001b[0m\u001b[0;34m\u001b[0m\u001b[0m\n\u001b[1;32m    730\u001b[0m         \u001b[0mencoding\u001b[0m\u001b[0;34m=\u001b[0m\u001b[0mencoding\u001b[0m\u001b[0;34m,\u001b[0m\u001b[0;34m\u001b[0m\u001b[0;34m\u001b[0m\u001b[0m\n",
            "\u001b[0;32m/usr/local/lib/python3.11/dist-packages/pandas/io/common.py\u001b[0m in \u001b[0;36m_get_filepath_or_buffer\u001b[0;34m(filepath_or_buffer, encoding, compression, mode, storage_options)\u001b[0m\n\u001b[1;32m    382\u001b[0m         \u001b[0;31m# assuming storage_options is to be interpreted as headers\u001b[0m\u001b[0;34m\u001b[0m\u001b[0;34m\u001b[0m\u001b[0m\n\u001b[1;32m    383\u001b[0m         \u001b[0mreq_info\u001b[0m \u001b[0;34m=\u001b[0m \u001b[0murllib\u001b[0m\u001b[0;34m.\u001b[0m\u001b[0mrequest\u001b[0m\u001b[0;34m.\u001b[0m\u001b[0mRequest\u001b[0m\u001b[0;34m(\u001b[0m\u001b[0mfilepath_or_buffer\u001b[0m\u001b[0;34m,\u001b[0m \u001b[0mheaders\u001b[0m\u001b[0;34m=\u001b[0m\u001b[0mstorage_options\u001b[0m\u001b[0;34m)\u001b[0m\u001b[0;34m\u001b[0m\u001b[0;34m\u001b[0m\u001b[0m\n\u001b[0;32m--> 384\u001b[0;31m         \u001b[0;32mwith\u001b[0m \u001b[0murlopen\u001b[0m\u001b[0;34m(\u001b[0m\u001b[0mreq_info\u001b[0m\u001b[0;34m)\u001b[0m \u001b[0;32mas\u001b[0m \u001b[0mreq\u001b[0m\u001b[0;34m:\u001b[0m\u001b[0;34m\u001b[0m\u001b[0;34m\u001b[0m\u001b[0m\n\u001b[0m\u001b[1;32m    385\u001b[0m             \u001b[0mcontent_encoding\u001b[0m \u001b[0;34m=\u001b[0m \u001b[0mreq\u001b[0m\u001b[0;34m.\u001b[0m\u001b[0mheaders\u001b[0m\u001b[0;34m.\u001b[0m\u001b[0mget\u001b[0m\u001b[0;34m(\u001b[0m\u001b[0;34m\"Content-Encoding\"\u001b[0m\u001b[0;34m,\u001b[0m \u001b[0;32mNone\u001b[0m\u001b[0;34m)\u001b[0m\u001b[0;34m\u001b[0m\u001b[0;34m\u001b[0m\u001b[0m\n\u001b[1;32m    386\u001b[0m             \u001b[0;32mif\u001b[0m \u001b[0mcontent_encoding\u001b[0m \u001b[0;34m==\u001b[0m \u001b[0;34m\"gzip\"\u001b[0m\u001b[0;34m:\u001b[0m\u001b[0;34m\u001b[0m\u001b[0;34m\u001b[0m\u001b[0m\n",
            "\u001b[0;32m/usr/local/lib/python3.11/dist-packages/pandas/io/common.py\u001b[0m in \u001b[0;36murlopen\u001b[0;34m(*args, **kwargs)\u001b[0m\n\u001b[1;32m    287\u001b[0m     \u001b[0;32mimport\u001b[0m \u001b[0murllib\u001b[0m\u001b[0;34m.\u001b[0m\u001b[0mrequest\u001b[0m\u001b[0;34m\u001b[0m\u001b[0;34m\u001b[0m\u001b[0m\n\u001b[1;32m    288\u001b[0m \u001b[0;34m\u001b[0m\u001b[0m\n\u001b[0;32m--> 289\u001b[0;31m     \u001b[0;32mreturn\u001b[0m \u001b[0murllib\u001b[0m\u001b[0;34m.\u001b[0m\u001b[0mrequest\u001b[0m\u001b[0;34m.\u001b[0m\u001b[0murlopen\u001b[0m\u001b[0;34m(\u001b[0m\u001b[0;34m*\u001b[0m\u001b[0margs\u001b[0m\u001b[0;34m,\u001b[0m \u001b[0;34m**\u001b[0m\u001b[0mkwargs\u001b[0m\u001b[0;34m)\u001b[0m\u001b[0;34m\u001b[0m\u001b[0;34m\u001b[0m\u001b[0m\n\u001b[0m\u001b[1;32m    290\u001b[0m \u001b[0;34m\u001b[0m\u001b[0m\n\u001b[1;32m    291\u001b[0m \u001b[0;34m\u001b[0m\u001b[0m\n",
            "\u001b[0;32m/usr/lib/python3.11/urllib/request.py\u001b[0m in \u001b[0;36murlopen\u001b[0;34m(url, data, timeout, cafile, capath, cadefault, context)\u001b[0m\n\u001b[1;32m    214\u001b[0m     \u001b[0;32melse\u001b[0m\u001b[0;34m:\u001b[0m\u001b[0;34m\u001b[0m\u001b[0;34m\u001b[0m\u001b[0m\n\u001b[1;32m    215\u001b[0m         \u001b[0mopener\u001b[0m \u001b[0;34m=\u001b[0m \u001b[0m_opener\u001b[0m\u001b[0;34m\u001b[0m\u001b[0;34m\u001b[0m\u001b[0m\n\u001b[0;32m--> 216\u001b[0;31m     \u001b[0;32mreturn\u001b[0m \u001b[0mopener\u001b[0m\u001b[0;34m.\u001b[0m\u001b[0mopen\u001b[0m\u001b[0;34m(\u001b[0m\u001b[0murl\u001b[0m\u001b[0;34m,\u001b[0m \u001b[0mdata\u001b[0m\u001b[0;34m,\u001b[0m \u001b[0mtimeout\u001b[0m\u001b[0;34m)\u001b[0m\u001b[0;34m\u001b[0m\u001b[0;34m\u001b[0m\u001b[0m\n\u001b[0m\u001b[1;32m    217\u001b[0m \u001b[0;34m\u001b[0m\u001b[0m\n\u001b[1;32m    218\u001b[0m \u001b[0;32mdef\u001b[0m \u001b[0minstall_opener\u001b[0m\u001b[0;34m(\u001b[0m\u001b[0mopener\u001b[0m\u001b[0;34m)\u001b[0m\u001b[0;34m:\u001b[0m\u001b[0;34m\u001b[0m\u001b[0;34m\u001b[0m\u001b[0m\n",
            "\u001b[0;32m/usr/lib/python3.11/urllib/request.py\u001b[0m in \u001b[0;36mopen\u001b[0;34m(self, fullurl, data, timeout)\u001b[0m\n\u001b[1;32m    523\u001b[0m         \u001b[0;32mfor\u001b[0m \u001b[0mprocessor\u001b[0m \u001b[0;32min\u001b[0m \u001b[0mself\u001b[0m\u001b[0;34m.\u001b[0m\u001b[0mprocess_response\u001b[0m\u001b[0;34m.\u001b[0m\u001b[0mget\u001b[0m\u001b[0;34m(\u001b[0m\u001b[0mprotocol\u001b[0m\u001b[0;34m,\u001b[0m \u001b[0;34m[\u001b[0m\u001b[0;34m]\u001b[0m\u001b[0;34m)\u001b[0m\u001b[0;34m:\u001b[0m\u001b[0;34m\u001b[0m\u001b[0;34m\u001b[0m\u001b[0m\n\u001b[1;32m    524\u001b[0m             \u001b[0mmeth\u001b[0m \u001b[0;34m=\u001b[0m \u001b[0mgetattr\u001b[0m\u001b[0;34m(\u001b[0m\u001b[0mprocessor\u001b[0m\u001b[0;34m,\u001b[0m \u001b[0mmeth_name\u001b[0m\u001b[0;34m)\u001b[0m\u001b[0;34m\u001b[0m\u001b[0;34m\u001b[0m\u001b[0m\n\u001b[0;32m--> 525\u001b[0;31m             \u001b[0mresponse\u001b[0m \u001b[0;34m=\u001b[0m \u001b[0mmeth\u001b[0m\u001b[0;34m(\u001b[0m\u001b[0mreq\u001b[0m\u001b[0;34m,\u001b[0m \u001b[0mresponse\u001b[0m\u001b[0;34m)\u001b[0m\u001b[0;34m\u001b[0m\u001b[0;34m\u001b[0m\u001b[0m\n\u001b[0m\u001b[1;32m    526\u001b[0m \u001b[0;34m\u001b[0m\u001b[0m\n\u001b[1;32m    527\u001b[0m         \u001b[0;32mreturn\u001b[0m \u001b[0mresponse\u001b[0m\u001b[0;34m\u001b[0m\u001b[0;34m\u001b[0m\u001b[0m\n",
            "\u001b[0;32m/usr/lib/python3.11/urllib/request.py\u001b[0m in \u001b[0;36mhttp_response\u001b[0;34m(self, request, response)\u001b[0m\n\u001b[1;32m    632\u001b[0m         \u001b[0;31m# request was successfully received, understood, and accepted.\u001b[0m\u001b[0;34m\u001b[0m\u001b[0;34m\u001b[0m\u001b[0m\n\u001b[1;32m    633\u001b[0m         \u001b[0;32mif\u001b[0m \u001b[0;32mnot\u001b[0m \u001b[0;34m(\u001b[0m\u001b[0;36m200\u001b[0m \u001b[0;34m<=\u001b[0m \u001b[0mcode\u001b[0m \u001b[0;34m<\u001b[0m \u001b[0;36m300\u001b[0m\u001b[0;34m)\u001b[0m\u001b[0;34m:\u001b[0m\u001b[0;34m\u001b[0m\u001b[0;34m\u001b[0m\u001b[0m\n\u001b[0;32m--> 634\u001b[0;31m             response = self.parent.error(\n\u001b[0m\u001b[1;32m    635\u001b[0m                 'http', request, response, code, msg, hdrs)\n\u001b[1;32m    636\u001b[0m \u001b[0;34m\u001b[0m\u001b[0m\n",
            "\u001b[0;32m/usr/lib/python3.11/urllib/request.py\u001b[0m in \u001b[0;36merror\u001b[0;34m(self, proto, *args)\u001b[0m\n\u001b[1;32m    561\u001b[0m         \u001b[0;32mif\u001b[0m \u001b[0mhttp_err\u001b[0m\u001b[0;34m:\u001b[0m\u001b[0;34m\u001b[0m\u001b[0;34m\u001b[0m\u001b[0m\n\u001b[1;32m    562\u001b[0m             \u001b[0margs\u001b[0m \u001b[0;34m=\u001b[0m \u001b[0;34m(\u001b[0m\u001b[0mdict\u001b[0m\u001b[0;34m,\u001b[0m \u001b[0;34m'default'\u001b[0m\u001b[0;34m,\u001b[0m \u001b[0;34m'http_error_default'\u001b[0m\u001b[0;34m)\u001b[0m \u001b[0;34m+\u001b[0m \u001b[0morig_args\u001b[0m\u001b[0;34m\u001b[0m\u001b[0;34m\u001b[0m\u001b[0m\n\u001b[0;32m--> 563\u001b[0;31m             \u001b[0;32mreturn\u001b[0m \u001b[0mself\u001b[0m\u001b[0;34m.\u001b[0m\u001b[0m_call_chain\u001b[0m\u001b[0;34m(\u001b[0m\u001b[0;34m*\u001b[0m\u001b[0margs\u001b[0m\u001b[0;34m)\u001b[0m\u001b[0;34m\u001b[0m\u001b[0;34m\u001b[0m\u001b[0m\n\u001b[0m\u001b[1;32m    564\u001b[0m \u001b[0;34m\u001b[0m\u001b[0m\n\u001b[1;32m    565\u001b[0m \u001b[0;31m# XXX probably also want an abstract factory that knows when it makes\u001b[0m\u001b[0;34m\u001b[0m\u001b[0;34m\u001b[0m\u001b[0m\n",
            "\u001b[0;32m/usr/lib/python3.11/urllib/request.py\u001b[0m in \u001b[0;36m_call_chain\u001b[0;34m(self, chain, kind, meth_name, *args)\u001b[0m\n\u001b[1;32m    494\u001b[0m         \u001b[0;32mfor\u001b[0m \u001b[0mhandler\u001b[0m \u001b[0;32min\u001b[0m \u001b[0mhandlers\u001b[0m\u001b[0;34m:\u001b[0m\u001b[0;34m\u001b[0m\u001b[0;34m\u001b[0m\u001b[0m\n\u001b[1;32m    495\u001b[0m             \u001b[0mfunc\u001b[0m \u001b[0;34m=\u001b[0m \u001b[0mgetattr\u001b[0m\u001b[0;34m(\u001b[0m\u001b[0mhandler\u001b[0m\u001b[0;34m,\u001b[0m \u001b[0mmeth_name\u001b[0m\u001b[0;34m)\u001b[0m\u001b[0;34m\u001b[0m\u001b[0;34m\u001b[0m\u001b[0m\n\u001b[0;32m--> 496\u001b[0;31m             \u001b[0mresult\u001b[0m \u001b[0;34m=\u001b[0m \u001b[0mfunc\u001b[0m\u001b[0;34m(\u001b[0m\u001b[0;34m*\u001b[0m\u001b[0margs\u001b[0m\u001b[0;34m)\u001b[0m\u001b[0;34m\u001b[0m\u001b[0;34m\u001b[0m\u001b[0m\n\u001b[0m\u001b[1;32m    497\u001b[0m             \u001b[0;32mif\u001b[0m \u001b[0mresult\u001b[0m \u001b[0;32mis\u001b[0m \u001b[0;32mnot\u001b[0m \u001b[0;32mNone\u001b[0m\u001b[0;34m:\u001b[0m\u001b[0;34m\u001b[0m\u001b[0;34m\u001b[0m\u001b[0m\n\u001b[1;32m    498\u001b[0m                 \u001b[0;32mreturn\u001b[0m \u001b[0mresult\u001b[0m\u001b[0;34m\u001b[0m\u001b[0;34m\u001b[0m\u001b[0m\n",
            "\u001b[0;32m/usr/lib/python3.11/urllib/request.py\u001b[0m in \u001b[0;36mhttp_error_default\u001b[0;34m(self, req, fp, code, msg, hdrs)\u001b[0m\n\u001b[1;32m    641\u001b[0m \u001b[0;32mclass\u001b[0m \u001b[0mHTTPDefaultErrorHandler\u001b[0m\u001b[0;34m(\u001b[0m\u001b[0mBaseHandler\u001b[0m\u001b[0;34m)\u001b[0m\u001b[0;34m:\u001b[0m\u001b[0;34m\u001b[0m\u001b[0;34m\u001b[0m\u001b[0m\n\u001b[1;32m    642\u001b[0m     \u001b[0;32mdef\u001b[0m \u001b[0mhttp_error_default\u001b[0m\u001b[0;34m(\u001b[0m\u001b[0mself\u001b[0m\u001b[0;34m,\u001b[0m \u001b[0mreq\u001b[0m\u001b[0;34m,\u001b[0m \u001b[0mfp\u001b[0m\u001b[0;34m,\u001b[0m \u001b[0mcode\u001b[0m\u001b[0;34m,\u001b[0m \u001b[0mmsg\u001b[0m\u001b[0;34m,\u001b[0m \u001b[0mhdrs\u001b[0m\u001b[0;34m)\u001b[0m\u001b[0;34m:\u001b[0m\u001b[0;34m\u001b[0m\u001b[0;34m\u001b[0m\u001b[0m\n\u001b[0;32m--> 643\u001b[0;31m         \u001b[0;32mraise\u001b[0m \u001b[0mHTTPError\u001b[0m\u001b[0;34m(\u001b[0m\u001b[0mreq\u001b[0m\u001b[0;34m.\u001b[0m\u001b[0mfull_url\u001b[0m\u001b[0;34m,\u001b[0m \u001b[0mcode\u001b[0m\u001b[0;34m,\u001b[0m \u001b[0mmsg\u001b[0m\u001b[0;34m,\u001b[0m \u001b[0mhdrs\u001b[0m\u001b[0;34m,\u001b[0m \u001b[0mfp\u001b[0m\u001b[0;34m)\u001b[0m\u001b[0;34m\u001b[0m\u001b[0;34m\u001b[0m\u001b[0m\n\u001b[0m\u001b[1;32m    644\u001b[0m \u001b[0;34m\u001b[0m\u001b[0m\n\u001b[1;32m    645\u001b[0m \u001b[0;32mclass\u001b[0m \u001b[0mHTTPRedirectHandler\u001b[0m\u001b[0;34m(\u001b[0m\u001b[0mBaseHandler\u001b[0m\u001b[0;34m)\u001b[0m\u001b[0;34m:\u001b[0m\u001b[0;34m\u001b[0m\u001b[0;34m\u001b[0m\u001b[0m\n",
            "\u001b[0;31mHTTPError\u001b[0m: HTTP Error 404: Not Found"
          ]
        }
      ]
    },
    {
      "cell_type": "code",
      "source": [
        "import pandas as pd\n",
        "url = \"https://raw.githubusercontent.com/tsaiyichen/finance/refs/heads/master/410401090_3090TW.csv\" #蔡易辰_日電貿_3090.TW\n",
        "df = pd.read_csv(url, index_col=0)\n",
        "print(df)"
      ],
      "metadata": {
        "id": "bDpmu8sB6hvw",
        "colab": {
          "base_uri": "https://localhost:8080/"
        },
        "outputId": "9c7671e9-2d80-4336-b294-b5b555c375fd"
      },
      "execution_count": 5,
      "outputs": [
        {
          "output_type": "stream",
          "name": "stdout",
          "text": [
            "                        Close               High                 Low  \\\n",
            "Price                                                                  \n",
            "Ticker                3090.TW            3090.TW             3090.TW   \n",
            "Date                      NaN                NaN                 NaN   \n",
            "2025-01-02               68.5               70.5                68.5   \n",
            "2025-01-03  67.69999694824219  69.30000305175781    67.4000015258789   \n",
            "2025-01-06  68.30000305175781  68.80000305175781                67.5   \n",
            "2025-01-07  67.80000305175781   69.0999984741211   67.80000305175781   \n",
            "2025-01-08               67.5  68.19999694824219   66.69999694824219   \n",
            "2025-01-09               66.0  67.80000305175781   65.80000305175781   \n",
            "2025-01-10               66.0   66.4000015258789   65.69999694824219   \n",
            "2025-01-13               64.0  65.19999694824219  63.599998474121094   \n",
            "2025-01-14               65.5               65.5                64.0   \n",
            "2025-01-15  65.19999694824219               66.0    64.9000015258789   \n",
            "2025-01-16   65.0999984741211   66.0999984741211    65.0999984741211   \n",
            "2025-01-17               65.5               67.5    64.5999984741211   \n",
            "2025-01-20   65.9000015258789  66.80000305175781    65.4000015258789   \n",
            "2025-01-21   66.9000015258789   67.9000015258789   66.19999694824219   \n",
            "2025-01-22   66.5999984741211  68.19999694824219                66.5   \n",
            "2025-02-03               65.5   65.5999984741211    64.0999984741211   \n",
            "2025-02-04   65.4000015258789   66.4000015258789                65.0   \n",
            "2025-02-05  68.19999694824219               68.5                66.0   \n",
            "2025-02-06  68.69999694824219  69.30000305175781    68.0999984741211   \n",
            "2025-02-07               72.0               74.0   71.19999694824219   \n",
            "2025-02-10               72.5   73.4000015258789    71.5999984741211   \n",
            "2025-02-11   73.5999984741211  73.69999694824219    72.4000015258789   \n",
            "2025-02-12  72.69999694824219   76.5999984741211    72.5999984741211   \n",
            "2025-02-13               73.5  74.30000305175781                73.0   \n",
            "2025-02-14   71.9000015258789  73.80000305175781   71.30000305175781   \n",
            "2025-02-17  71.80000305175781               72.0   70.80000305175781   \n",
            "2025-02-18               71.5  72.30000305175781                71.5   \n",
            "2025-02-19               71.0  71.69999694824219                71.0   \n",
            "2025-02-20   71.4000015258789               72.0   70.80000305175781   \n",
            "2025-02-21   71.5999984741211               72.0   71.30000305175781   \n",
            "2025-02-24  71.69999694824219   72.0999984741211                71.0   \n",
            "2025-02-25               70.5  71.69999694824219   70.30000305175781   \n",
            "2025-02-26  71.19999694824219  71.30000305175781   69.30000305175781   \n",
            "2025-02-27               71.0               72.0                70.5   \n",
            "2025-03-03               70.0   70.9000015258789    69.9000015258789   \n",
            "2025-03-04   70.4000015258789   70.5999984741211    68.5999984741211   \n",
            "2025-03-05  70.30000305175781  70.80000305175781    69.9000015258789   \n",
            "2025-03-06  70.30000305175781   71.0999984741211   70.30000305175781   \n",
            "2025-03-07  70.80000305175781  71.80000305175781                70.5   \n",
            "2025-03-10  71.30000305175781   71.5999984741211    70.4000015258789   \n",
            "2025-03-11   70.4000015258789  70.69999694824219   69.30000305175781   \n",
            "2025-03-12  71.80000305175781   72.4000015258789    70.5999984741211   \n",
            "2025-03-13   71.9000015258789   74.4000015258789   71.69999694824219   \n",
            "2025-03-14               73.5   74.0999984741211                72.5   \n",
            "2025-03-17  74.19999694824219  74.80000305175781   73.80000305175781   \n",
            "2025-03-18   74.9000015258789               75.5   74.30000305175781   \n",
            "2025-03-19  74.69999694824219  75.69999694824219    74.0999984741211   \n",
            "2025-03-20   74.9000015258789               75.5   74.19999694824219   \n",
            "2025-03-21               73.5   75.0999984741211   73.30000305175781   \n",
            "2025-03-24  71.69999694824219  73.80000305175781                71.5   \n",
            "2025-03-25  71.30000305175781   72.4000015258789    71.0999984741211   \n",
            "2025-03-26   71.5999984741211   71.9000015258789    71.0999984741211   \n",
            "2025-03-27   71.9000015258789   71.9000015258789    70.9000015258789   \n",
            "2025-03-28   70.5999984741211               71.5    69.9000015258789   \n",
            "\n",
            "                         Open   Volume  \n",
            "Price                                   \n",
            "Ticker                3090.TW  3090.TW  \n",
            "Date                      NaN      NaN  \n",
            "2025-01-02               70.5  1311050  \n",
            "2025-01-03   68.9000015258789  1202013  \n",
            "2025-01-06               68.0   821027  \n",
            "2025-01-07   69.0999984741211   855169  \n",
            "2025-01-08  67.80000305175781  1267133  \n",
            "2025-01-09  67.19999694824219  1531631  \n",
            "2025-01-10               66.0   759675  \n",
            "2025-01-13  65.19999694824219  1364000  \n",
            "2025-01-14   64.0999984741211   476050  \n",
            "2025-01-15   65.5999984741211   389097  \n",
            "2025-01-16   66.0999984741211   508140  \n",
            "2025-01-17   65.0999984741211   932201  \n",
            "2025-01-20  65.80000305175781   744251  \n",
            "2025-01-21               66.5  2076417  \n",
            "2025-01-22               67.0  2067375  \n",
            "2025-02-03               65.0  1203100  \n",
            "2025-02-04  65.80000305175781   552011  \n",
            "2025-02-05               66.0  2204170  \n",
            "2025-02-06  68.30000305175781  1523341  \n",
            "2025-02-07               72.5  7918941  \n",
            "2025-02-10               72.0  4318602  \n",
            "2025-02-11  72.80000305175781  4502143  \n",
            "2025-02-12               74.5  8533986  \n",
            "2025-02-13   73.4000015258789  3259454  \n",
            "2025-02-14  73.69999694824219  3660339  \n",
            "2025-02-17               71.0  1587668  \n",
            "2025-02-18   72.0999984741211  1009813  \n",
            "2025-02-19               71.5  1036339  \n",
            "2025-02-20   71.0999984741211  1098539  \n",
            "2025-02-21   71.4000015258789   729380  \n",
            "2025-02-24   71.5999984741211   652671  \n",
            "2025-02-25  71.69999694824219  1780262  \n",
            "2025-02-26   70.0999984741211  1164426  \n",
            "2025-02-27               71.5   987695  \n",
            "2025-03-03               70.5   810029  \n",
            "2025-03-04  69.19999694824219   815103  \n",
            "2025-03-05  70.80000305175781   728208  \n",
            "2025-03-06   70.4000015258789   459649  \n",
            "2025-03-07               71.0  1496665  \n",
            "2025-03-10  70.80000305175781   970006  \n",
            "2025-03-11   69.5999984741211  1286124  \n",
            "2025-03-12   70.5999984741211  1345840  \n",
            "2025-03-13               72.5  4114444  \n",
            "2025-03-14  73.19999694824219  3389226  \n",
            "2025-03-17   74.4000015258789  2585141  \n",
            "2025-03-18  74.69999694824219  3362369  \n",
            "2025-03-19  75.69999694824219  1825751  \n",
            "2025-03-20  75.30000305175781  1278174  \n",
            "2025-03-21   74.9000015258789  1258130  \n",
            "2025-03-24  73.80000305175781  1501115  \n",
            "2025-03-25   72.0999984741211   761100  \n",
            "2025-03-26  71.69999694824219   513140  \n",
            "2025-03-27   71.5999984741211   487337  \n",
            "2025-03-28               71.5  1137118  \n"
          ]
        }
      ]
    },
    {
      "cell_type": "code",
      "source": [
        "import pandas as pd\n",
        "url = \"https://raw.githubusercontent.com/YYT0313/2025fin_data/refs/heads/main/yahoo_2317TW.csv\" #楊詠婷_鴻海_2317.TW\n",
        "df = pd.read_csv(url, index_col=0)\n",
        "print(df)"
      ],
      "metadata": {
        "colab": {
          "base_uri": "https://localhost:8080/"
        },
        "id": "oNO2j5ma6inv",
        "outputId": "b0988f52-06fb-4484-a799-70527d39a3d1"
      },
      "execution_count": 4,
      "outputs": [
        {
          "output_type": "stream",
          "name": "stdout",
          "text": [
            "              Close     High      Low     Open     Volume\n",
            "Price                                                    \n",
            "Ticker      2317.TW  2317.TW  2317.TW  2317.TW    2317.TW\n",
            "Date            NaN      NaN      NaN      NaN        NaN\n",
            "2025-01-02    182.5    186.0    181.5    184.0   38301022\n",
            "2025-01-03    181.0    184.0    180.5    183.0   46698161\n",
            "2025-01-06    184.5    187.5    183.5    185.0   66600965\n",
            "2025-01-07    190.0    192.0    186.5    187.0   80605094\n",
            "2025-01-08    188.0    190.0    187.0    190.0   40650155\n",
            "2025-01-09    183.0    188.0    183.0    188.0   44873514\n",
            "2025-01-10    181.5    184.0    181.0    182.5   39132489\n",
            "2025-01-13    171.5    180.5    171.5    180.0  148207264\n",
            "2025-01-14    174.5    174.5    171.0    171.5   62025042\n",
            "2025-01-15    171.0    175.5    171.0    174.5   57853514\n",
            "2025-01-16    173.5    176.0    173.0    175.0   41090927\n",
            "2025-01-17    173.5    175.5    172.0    173.0   44467947\n",
            "2025-01-20    178.0    178.0    174.5    174.5   33266229\n",
            "2025-01-21    178.5    180.0    177.0    178.5   31745824\n",
            "2025-01-22    180.0    181.0    178.5    180.5   43634401\n",
            "2025-02-03    165.5    168.0    163.5    164.0  155112848\n",
            "2025-02-04    165.0    169.0    165.0    167.0   62817481\n",
            "2025-02-05    171.0    171.5    167.0    167.0   50787569\n",
            "2025-02-06    173.0    174.0    171.0    172.5   40235011\n",
            "2025-02-07    178.0    178.0    174.0    175.0   50334024\n",
            "2025-02-10    174.0    176.5    174.0    176.0   35975740\n",
            "2025-02-11    179.0    182.0    176.0    178.0   69282654\n",
            "2025-02-12    177.0    181.5    177.0    181.5   41760435\n",
            "2025-02-13    180.0    181.0    177.0    177.0   40054109\n",
            "2025-02-14    178.0    180.5    177.5    180.0   26170902\n",
            "2025-02-17    182.5    182.5    179.0    179.5   46052153\n",
            "2025-02-18    183.5    184.0    181.0    183.0   26614265\n",
            "2025-02-19    183.0    184.5    182.0    183.5   33998620\n",
            "2025-02-20    182.0    183.5    181.5    183.0   23201907\n",
            "2025-02-21    183.0    184.0    181.0    181.5   34837198\n",
            "2025-02-24    184.0    184.0    180.5    181.0   26499357\n",
            "2025-02-25    177.5    182.0    177.5    181.5   62236037\n",
            "2025-02-26    180.5    181.0    174.5    175.0   44189198\n",
            "2025-02-27    174.0    181.5    174.0    180.0   78529299\n",
            "2025-03-03    170.0    175.0    170.0    172.0   67754390\n",
            "2025-03-04    170.5    172.0    165.0    165.5   68513242\n",
            "2025-03-05    173.5    175.0    171.5    171.5   44481318\n",
            "2025-03-06    173.5    176.0    173.5    175.5   28371666\n",
            "2025-03-07    172.0    174.5    171.0    171.0   31346422\n",
            "2025-03-10    172.0    174.0    170.0    173.5   35538548\n",
            "2025-03-11    168.5    169.5    165.0    166.0   65518436\n",
            "2025-03-12    170.5    171.5    169.0    169.0   39457767\n",
            "2025-03-13    168.0    174.0    168.0    172.5   33203563\n",
            "2025-03-14    170.0    170.5    168.0    168.5   32460048\n",
            "2025-03-17    168.0    172.5    168.0    172.0   49505421\n",
            "2025-03-18    167.5    169.5    167.0    169.0   38491878\n",
            "2025-03-19    164.0    167.5    163.5    167.0   76827146\n",
            "2025-03-20    166.0    167.0    164.5    165.0   36080294\n",
            "2025-03-21    165.0    167.0    165.0    167.0   44208163\n",
            "2025-03-24    163.0    167.0    163.0    166.5   40731359\n",
            "2025-03-25    165.0    166.5    164.0    165.5   32238564\n",
            "2025-03-26    166.0    167.0    165.0    166.0   18157417\n",
            "2025-03-27    160.5    164.0    160.0    163.5   64776987\n",
            "2025-03-28    154.0    158.5    153.0    158.0  106024520\n"
          ]
        }
      ]
    }
  ]
}