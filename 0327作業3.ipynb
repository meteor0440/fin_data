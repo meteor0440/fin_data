{
 "cells": [
  {
   "cell_type": "code",
   "execution_count": 1,
   "id": "c2ab3a05-ea95-43f4-b935-2ed4048feafe",
   "metadata": {},
   "outputs": [],
   "source": [
    "X = 10"
   ]
  },
  {
   "cell_type": "code",
   "execution_count": 2,
   "id": "14fc8787-795a-4988-a0d1-a9bca5e3cfc8",
   "metadata": {},
   "outputs": [
    {
     "name": "stdout",
     "output_type": "stream",
     "text": [
      "10\n"
     ]
    }
   ],
   "source": [
    "print(X)"
   ]
  },
  {
   "cell_type": "code",
   "execution_count": 3,
   "id": "01c628b3-a74c-49bd-b55f-ef6161ed486c",
   "metadata": {},
   "outputs": [
    {
     "data": {
      "text/plain": [
       "int"
      ]
     },
     "execution_count": 3,
     "metadata": {},
     "output_type": "execute_result"
    }
   ],
   "source": [
    "type(X)"
   ]
  },
  {
   "cell_type": "code",
   "execution_count": 4,
   "id": "3941d196-8e8e-4c9a-a53b-e66c6d1afbc8",
   "metadata": {},
   "outputs": [
    {
     "name": "stdout",
     "output_type": "stream",
     "text": [
      "10.0\n"
     ]
    },
    {
     "data": {
      "text/plain": [
       "float"
      ]
     },
     "execution_count": 4,
     "metadata": {},
     "output_type": "execute_result"
    }
   ],
   "source": [
    "Y = 10.0\n",
    "print(Y)\n",
    "type(Y)"
   ]
  },
  {
   "cell_type": "code",
   "execution_count": 5,
   "id": "8bc3e4f3-2036-4e8b-af9f-5ae67362533c",
   "metadata": {},
   "outputs": [
    {
     "name": "stdout",
     "output_type": "stream",
     "text": [
      "20.0\n"
     ]
    },
    {
     "data": {
      "text/plain": [
       "float"
      ]
     },
     "execution_count": 5,
     "metadata": {},
     "output_type": "execute_result"
    }
   ],
   "source": [
    "Z = X + Y\n",
    "print(Z)\n",
    "type(Z)"
   ]
  },
  {
   "cell_type": "code",
   "execution_count": 6,
   "id": "8caf26c4-b385-49f0-9dd7-43619c53fa70",
   "metadata": {},
   "outputs": [
    {
     "name": "stdout",
     "output_type": "stream",
     "text": [
      "2\n"
     ]
    }
   ],
   "source": [
    "print(0b10)"
   ]
  },
  {
   "cell_type": "code",
   "execution_count": 7,
   "id": "d772d315-09aa-4636-839c-de717f5996c2",
   "metadata": {},
   "outputs": [
    {
     "name": "stdout",
     "output_type": "stream",
     "text": [
      "6\n"
     ]
    }
   ],
   "source": [
    "M = 0b110\n",
    "print(M)"
   ]
  },
  {
   "cell_type": "code",
   "execution_count": 8,
   "id": "6e2b4746-e4de-4102-a102-ec2eedabe60f",
   "metadata": {},
   "outputs": [
    {
     "data": {
      "text/plain": [
       "int"
      ]
     },
     "execution_count": 8,
     "metadata": {},
     "output_type": "execute_result"
    }
   ],
   "source": [
    "type(M)"
   ]
  },
  {
   "cell_type": "code",
   "execution_count": 9,
   "id": "490d8d93-70ee-438f-b261-c7896287a447",
   "metadata": {},
   "outputs": [],
   "source": [
    "N = 0X1A"
   ]
  },
  {
   "cell_type": "code",
   "execution_count": 10,
   "id": "8e1a47ce-b36a-472a-8837-72a73f572234",
   "metadata": {},
   "outputs": [
    {
     "name": "stdout",
     "output_type": "stream",
     "text": [
      "26\n"
     ]
    }
   ],
   "source": [
    "print(N)"
   ]
  },
  {
   "cell_type": "code",
   "execution_count": 11,
   "id": "accfc126-fa49-4099-8f90-98a2626e7034",
   "metadata": {},
   "outputs": [
    {
     "data": {
      "text/plain": [
       "'0xa'"
      ]
     },
     "execution_count": 11,
     "metadata": {},
     "output_type": "execute_result"
    }
   ],
   "source": [
    "x = 10\n",
    "hex(x)"
   ]
  },
  {
   "cell_type": "code",
   "execution_count": 12,
   "id": "91b2c208-faf0-4760-b9fc-6c6fc868e863",
   "metadata": {},
   "outputs": [
    {
     "data": {
      "text/plain": [
       "'0b1000'"
      ]
     },
     "execution_count": 12,
     "metadata": {},
     "output_type": "execute_result"
    }
   ],
   "source": [
    "y = 0o10\n",
    "bin(y)"
   ]
  },
  {
   "cell_type": "code",
   "execution_count": 13,
   "id": "89118771-d911-4e95-b14e-18c56580a5cd",
   "metadata": {},
   "outputs": [
    {
     "name": "stdout",
     "output_type": "stream",
     "text": [
      "True\n"
     ]
    },
    {
     "data": {
      "text/plain": [
       "bool"
      ]
     },
     "execution_count": 13,
     "metadata": {},
     "output_type": "execute_result"
    }
   ],
   "source": [
    "X = True\n",
    "print(X)\n",
    "type(X)"
   ]
  },
  {
   "cell_type": "code",
   "execution_count": 14,
   "id": "d059f676-b834-4c66-a022-d9ea99b5e85a",
   "metadata": {},
   "outputs": [
    {
     "data": {
      "text/plain": [
       "1"
      ]
     },
     "execution_count": 14,
     "metadata": {},
     "output_type": "execute_result"
    }
   ],
   "source": [
    "int(X)"
   ]
  },
  {
   "cell_type": "code",
   "execution_count": 16,
   "id": "2241d626-069d-4af0-bfb5-7c149327ba21",
   "metadata": {},
   "outputs": [
    {
     "name": "stdout",
     "output_type": "stream",
     "text": [
      "False\n",
      "<class 'bool'>\n"
     ]
    },
    {
     "data": {
      "text/plain": [
       "0"
      ]
     },
     "execution_count": 16,
     "metadata": {},
     "output_type": "execute_result"
    }
   ],
   "source": [
    "Y = False\n",
    "print(Y)\n",
    "print(type(Y))\n",
    "int(Y)"
   ]
  },
  {
   "cell_type": "code",
   "execution_count": 17,
   "id": "c96af152-cc27-42e6-bd92-b260b4553ca1",
   "metadata": {},
   "outputs": [
    {
     "name": "stdout",
     "output_type": "stream",
     "text": [
      "1\n"
     ]
    },
    {
     "data": {
      "text/plain": [
       "int"
      ]
     },
     "execution_count": 17,
     "metadata": {},
     "output_type": "execute_result"
    }
   ],
   "source": [
    "Z = X + Y\n",
    "print(Z)\n",
    "type(Z)"
   ]
  },
  {
   "cell_type": "code",
   "execution_count": 18,
   "id": "e245cda5-f172-4ea8-8d1d-7279d35c3fce",
   "metadata": {},
   "outputs": [
    {
     "name": "stdout",
     "output_type": "stream",
     "text": [
      "a\n"
     ]
    },
    {
     "data": {
      "text/plain": [
       "str"
      ]
     },
     "execution_count": 18,
     "metadata": {},
     "output_type": "execute_result"
    }
   ],
   "source": [
    "X = 'a'\n",
    "print(X)\n",
    "type(X)"
   ]
  },
  {
   "cell_type": "code",
   "execution_count": 19,
   "id": "28c7714e-bef7-471a-9a01-ed67ed69bf23",
   "metadata": {},
   "outputs": [
    {
     "data": {
      "text/plain": [
       "1"
      ]
     },
     "execution_count": 19,
     "metadata": {},
     "output_type": "execute_result"
    }
   ],
   "source": [
    "len(X)\n"
   ]
  },
  {
   "cell_type": "code",
   "execution_count": 20,
   "id": "10cc3ec3-a356-4593-9215-5d03d5cd3cf9",
   "metadata": {},
   "outputs": [
    {
     "name": "stdout",
     "output_type": "stream",
     "text": [
      "usage\n"
     ]
    },
    {
     "data": {
      "text/plain": [
       "5"
      ]
     },
     "execution_count": 20,
     "metadata": {},
     "output_type": "execute_result"
    }
   ],
   "source": [
    "Y = \"usage\"\n",
    "print(Y)\n",
    "type(Y)\n",
    "len(Y)"
   ]
  },
  {
   "cell_type": "code",
   "execution_count": 22,
   "id": "7d0f7215-5bd4-47de-803c-e294426b638e",
   "metadata": {},
   "outputs": [
    {
     "name": "stdout",
     "output_type": "stream",
     "text": [
      "ausage\n",
      "aaa\n"
     ]
    }
   ],
   "source": [
    "X = 'a'\n",
    "Y = 'usage'\n",
    "print(X+Y)\n",
    "print(X*3)"
   ]
  },
  {
   "cell_type": "code",
   "execution_count": 23,
   "id": "01d88535-fa69-4981-bd06-7d98ffbd0e85",
   "metadata": {},
   "outputs": [
    {
     "name": "stdout",
     "output_type": "stream",
     "text": [
      "X+Y= ausage\n"
     ]
    }
   ],
   "source": [
    "print(\"X+Y=\", X+Y)"
   ]
  },
  {
   "cell_type": "code",
   "execution_count": 24,
   "id": "99185aae-202a-4287-89ce-f82230e04b9a",
   "metadata": {},
   "outputs": [
    {
     "name": "stdout",
     "output_type": "stream",
     "text": [
      "stock_No = 10\n",
      "台積電股數 = 10\n"
     ]
    }
   ],
   "source": [
    "stock_No=10\n",
    "台積電股數=10\n",
    "print('stock_No =', stock_No)\n",
    "print('台積電股數 =', 台積電股數)"
   ]
  },
  {
   "cell_type": "code",
   "execution_count": 1,
   "id": "415c4b01-d714-4d2a-9024-f1e4c8c0d2c0",
   "metadata": {},
   "outputs": [
    {
     "name": "stdout",
     "output_type": "stream",
     "text": [
      "Requirement already satisfied: pandas in c:\\users\\user\\anaconda3\\lib\\site-packages (2.2.2)\n",
      "Requirement already satisfied: numpy>=1.26.0 in c:\\users\\user\\anaconda3\\lib\\site-packages (from pandas) (1.26.4)\n",
      "Requirement already satisfied: python-dateutil>=2.8.2 in c:\\users\\user\\anaconda3\\lib\\site-packages (from pandas) (2.9.0.post0)\n",
      "Requirement already satisfied: pytz>=2020.1 in c:\\users\\user\\anaconda3\\lib\\site-packages (from pandas) (2024.1)\n",
      "Requirement already satisfied: tzdata>=2022.7 in c:\\users\\user\\anaconda3\\lib\\site-packages (from pandas) (2023.3)\n",
      "Requirement already satisfied: six>=1.5 in c:\\users\\user\\anaconda3\\lib\\site-packages (from python-dateutil>=2.8.2->pandas) (1.16.0)\n"
     ]
    }
   ],
   "source": [
    "!pip install pandas"
   ]
  },
  {
   "cell_type": "code",
   "execution_count": 23,
   "id": "8b663541-74e9-4bcb-ba8e-2322c9ffff93",
   "metadata": {},
   "outputs": [
    {
     "name": "stdout",
     "output_type": "stream",
     "text": [
      "      iso3 iso2  imfn   country                     region  \\\n",
      "0      ABW   AW   314     Aruba  Latin America & Caribbean   \n",
      "1      ABW   AW   314     Aruba  Latin America & Caribbean   \n",
      "2      ABW   AW   314     Aruba  Latin America & Caribbean   \n",
      "3      ABW   AW   314     Aruba  Latin America & Caribbean   \n",
      "4      ABW   AW   314     Aruba  Latin America & Caribbean   \n",
      "...    ...  ...   ...       ...                        ...   \n",
      "13049  ZWE   ZW   698  Zimbabwe         Sub-Saharan Africa   \n",
      "13050  ZWE   ZW   698  Zimbabwe         Sub-Saharan Africa   \n",
      "13051  ZWE   ZW   698  Zimbabwe         Sub-Saharan Africa   \n",
      "13052  ZWE   ZW   698  Zimbabwe         Sub-Saharan Africa   \n",
      "13053  ZWE   ZW   698  Zimbabwe         Sub-Saharan Africa   \n",
      "\n",
      "                    income  year      ai01      ai02  ai03  ...  oi14  oi15  \\\n",
      "0              High income  1960       NaN       NaN   NaN  ...   NaN   NaN   \n",
      "1              High income  1961       NaN       NaN   NaN  ...   NaN   NaN   \n",
      "2              High income  1962       NaN       NaN   NaN  ...   NaN   NaN   \n",
      "3              High income  1963       NaN       NaN   NaN  ...   NaN   NaN   \n",
      "4              High income  1964       NaN       NaN   NaN  ...   NaN   NaN   \n",
      "...                    ...   ...       ...       ...   ...  ...   ...   ...   \n",
      "13049  Lower middle income  2016  287.2482  5.817775   7.8  ...   NaN   NaN   \n",
      "13050  Lower middle income  2017  466.6727  5.641079   NaN  ...   NaN   NaN   \n",
      "13051  Lower middle income  2018  582.4891  5.482931   NaN  ...   NaN   NaN   \n",
      "13052  Lower middle income  2019  641.0139  3.753890   NaN  ...   NaN   NaN   \n",
      "13053  Lower middle income  2020       NaN       NaN   NaN  ...   NaN   NaN   \n",
      "\n",
      "       oi16  oi16a  oi17  oi18  oi19  oi20a  om01  om02  \n",
      "0       NaN    NaN   NaN   NaN   NaN    NaN   NaN   NaN  \n",
      "1       NaN    NaN   NaN   NaN   NaN    NaN   NaN   NaN  \n",
      "2       NaN    NaN   NaN   NaN   NaN    NaN   NaN   NaN  \n",
      "3       NaN    NaN   NaN   NaN   NaN    NaN   NaN   NaN  \n",
      "4       NaN    NaN   NaN   NaN   NaN    NaN   NaN   NaN  \n",
      "...     ...    ...   ...   ...   ...    ...   ...   ...  \n",
      "13049   NaN   81.0   NaN   NaN   0.0   19.0   NaN   NaN  \n",
      "13050   NaN    NaN   NaN   NaN   0.0    NaN   NaN   NaN  \n",
      "13051   NaN    NaN   NaN   NaN   NaN    NaN   NaN   NaN  \n",
      "13052   NaN    NaN   NaN   NaN   NaN    NaN   NaN   NaN  \n",
      "13053   NaN    NaN   NaN   NaN   NaN    NaN   NaN   NaN  \n",
      "\n",
      "[13054 rows x 113 columns]\n"
     ]
    }
   ],
   "source": [
    "import pandas as pd\n",
    "df = pd.read_excel(\"C:\\\\Users\\\\user\\\\Downloads\\\\20220909-global-financial-development-database (3)(1).xlsx\",\n",
    "sheet_name=\"Data - November 2021\")\n",
    "print(df)"
   ]
  },
  {
   "cell_type": "code",
   "execution_count": 21,
   "id": "e274947f-4033-4c8a-a0c1-99d16eb402e9",
   "metadata": {},
   "outputs": [
    {
     "data": {
      "text/plain": [
       "pandas.core.frame.DataFrame"
      ]
     },
     "execution_count": 21,
     "metadata": {},
     "output_type": "execute_result"
    }
   ],
   "source": [
    "type(df)"
   ]
  },
  {
   "cell_type": "code",
   "execution_count": 25,
   "id": "2a9c305c-da9b-4520-a1b5-3c8eecf4bb8e",
   "metadata": {},
   "outputs": [
    {
     "name": "stdout",
     "output_type": "stream",
     "text": [
      "Collecting yfinance\n",
      "  Downloading yfinance-0.2.54-py2.py3-none-any.whl.metadata (5.8 kB)\n",
      "Requirement already satisfied: pandas>=1.3.0 in c:\\users\\user\\anaconda3\\lib\\site-packages (from yfinance) (2.2.2)\n",
      "Requirement already satisfied: numpy>=1.16.5 in c:\\users\\user\\anaconda3\\lib\\site-packages (from yfinance) (1.26.4)\n",
      "Requirement already satisfied: requests>=2.31 in c:\\users\\user\\anaconda3\\lib\\site-packages (from yfinance) (2.32.3)\n",
      "Collecting multitasking>=0.0.7 (from yfinance)\n",
      "  Downloading multitasking-0.0.11-py3-none-any.whl.metadata (5.5 kB)\n",
      "Requirement already satisfied: platformdirs>=2.0.0 in c:\\users\\user\\anaconda3\\lib\\site-packages (from yfinance) (3.10.0)\n",
      "Requirement already satisfied: pytz>=2022.5 in c:\\users\\user\\anaconda3\\lib\\site-packages (from yfinance) (2024.1)\n",
      "Requirement already satisfied: frozendict>=2.3.4 in c:\\users\\user\\anaconda3\\lib\\site-packages (from yfinance) (2.4.2)\n",
      "Collecting peewee>=3.16.2 (from yfinance)\n",
      "  Downloading peewee-3.17.9.tar.gz (3.0 MB)\n",
      "     ---------------------------------------- 0.0/3.0 MB ? eta -:--:--\n",
      "     ------------- -------------------------- 1.0/3.0 MB 7.2 MB/s eta 0:00:01\n",
      "     ---------------------------------- ----- 2.6/3.0 MB 7.6 MB/s eta 0:00:01\n",
      "     ---------------------------------------- 3.0/3.0 MB 7.4 MB/s eta 0:00:00\n",
      "  Installing build dependencies: started\n",
      "  Installing build dependencies: finished with status 'done'\n",
      "  Getting requirements to build wheel: started\n",
      "  Getting requirements to build wheel: finished with status 'done'\n",
      "  Preparing metadata (pyproject.toml): started\n",
      "  Preparing metadata (pyproject.toml): finished with status 'done'\n",
      "Requirement already satisfied: beautifulsoup4>=4.11.1 in c:\\users\\user\\anaconda3\\lib\\site-packages (from yfinance) (4.12.3)\n",
      "Requirement already satisfied: soupsieve>1.2 in c:\\users\\user\\anaconda3\\lib\\site-packages (from beautifulsoup4>=4.11.1->yfinance) (2.5)\n",
      "Requirement already satisfied: python-dateutil>=2.8.2 in c:\\users\\user\\anaconda3\\lib\\site-packages (from pandas>=1.3.0->yfinance) (2.9.0.post0)\n",
      "Requirement already satisfied: tzdata>=2022.7 in c:\\users\\user\\anaconda3\\lib\\site-packages (from pandas>=1.3.0->yfinance) (2023.3)\n",
      "Requirement already satisfied: charset-normalizer<4,>=2 in c:\\users\\user\\anaconda3\\lib\\site-packages (from requests>=2.31->yfinance) (3.3.2)\n",
      "Requirement already satisfied: idna<4,>=2.5 in c:\\users\\user\\anaconda3\\lib\\site-packages (from requests>=2.31->yfinance) (3.7)\n",
      "Requirement already satisfied: urllib3<3,>=1.21.1 in c:\\users\\user\\anaconda3\\lib\\site-packages (from requests>=2.31->yfinance) (2.2.3)\n",
      "Requirement already satisfied: certifi>=2017.4.17 in c:\\users\\user\\anaconda3\\lib\\site-packages (from requests>=2.31->yfinance) (2025.1.31)\n",
      "Requirement already satisfied: six>=1.5 in c:\\users\\user\\anaconda3\\lib\\site-packages (from python-dateutil>=2.8.2->pandas>=1.3.0->yfinance) (1.16.0)\n",
      "Downloading yfinance-0.2.54-py2.py3-none-any.whl (108 kB)\n",
      "Downloading multitasking-0.0.11-py3-none-any.whl (8.5 kB)\n",
      "Building wheels for collected packages: peewee\n",
      "  Building wheel for peewee (pyproject.toml): started\n",
      "  Building wheel for peewee (pyproject.toml): finished with status 'done'\n",
      "  Created wheel for peewee: filename=peewee-3.17.9-py3-none-any.whl size=139096 sha256=07a321f4056addbc2375e92f0f526553ffec1b521c4a9449ac2db660d6e380cc\n",
      "  Stored in directory: c:\\users\\user\\appdata\\local\\pip\\cache\\wheels\\43\\ef\\2d\\2c51d496bf084945ffdf838b4cc8767b8ba1cc20eb41588831\n",
      "Successfully built peewee\n",
      "Installing collected packages: peewee, multitasking, yfinance\n",
      "Successfully installed multitasking-0.0.11 peewee-3.17.9 yfinance-0.2.54\n"
     ]
    }
   ],
   "source": [
    "!pip install yfinance "
   ]
  },
  {
   "cell_type": "code",
   "execution_count": 29,
   "id": "5dc7f4d9-0e63-480e-a8b4-a83ab8ee4367",
   "metadata": {},
   "outputs": [
    {
     "name": "stdout",
     "output_type": "stream",
     "text": [
      "YF.download() has changed argument auto_adjust default to True\n"
     ]
    },
    {
     "name": "stderr",
     "output_type": "stream",
     "text": [
      "[*********************100%***********************]  1 of 1 completed\n"
     ]
    }
   ],
   "source": [
    "import yfinance as yf\n",
    "df = yf.download(\"2330.TW\", \"2022-06-27\")"
   ]
  },
  {
   "cell_type": "code",
   "execution_count": 31,
   "id": "95593f29-5bfc-4fbb-8b53-657d29d7f290",
   "metadata": {},
   "outputs": [
    {
     "data": {
      "text/plain": [
       "pandas.core.frame.DataFrame"
      ]
     },
     "execution_count": 31,
     "metadata": {},
     "output_type": "execute_result"
    }
   ],
   "source": [
    "type(df) "
   ]
  },
  {
   "cell_type": "code",
   "execution_count": 33,
   "id": "8334877f-2c13-40fc-98cd-97544838936f",
   "metadata": {},
   "outputs": [],
   "source": [
    "df.to_excel('yahoo_2330TW.xlsx')"
   ]
  },
  {
   "cell_type": "code",
   "execution_count": 35,
   "id": "3e18ad8b-a348-4ce7-9b9b-ef14509d552a",
   "metadata": {},
   "outputs": [
    {
     "data": {
      "text/html": [
       "<div>\n",
       "<style scoped>\n",
       "    .dataframe tbody tr th:only-of-type {\n",
       "        vertical-align: middle;\n",
       "    }\n",
       "\n",
       "    .dataframe tbody tr th {\n",
       "        vertical-align: top;\n",
       "    }\n",
       "\n",
       "    .dataframe thead tr th {\n",
       "        text-align: left;\n",
       "    }\n",
       "\n",
       "    .dataframe thead tr:last-of-type th {\n",
       "        text-align: right;\n",
       "    }\n",
       "</style>\n",
       "<table border=\"1\" class=\"dataframe\">\n",
       "  <thead>\n",
       "    <tr>\n",
       "      <th>Price</th>\n",
       "      <th>Close</th>\n",
       "      <th>High</th>\n",
       "      <th>Low</th>\n",
       "      <th>Open</th>\n",
       "      <th>Volume</th>\n",
       "    </tr>\n",
       "    <tr>\n",
       "      <th>Ticker</th>\n",
       "      <th>2330.TW</th>\n",
       "      <th>2330.TW</th>\n",
       "      <th>2330.TW</th>\n",
       "      <th>2330.TW</th>\n",
       "      <th>2330.TW</th>\n",
       "    </tr>\n",
       "    <tr>\n",
       "      <th>Date</th>\n",
       "      <th></th>\n",
       "      <th></th>\n",
       "      <th></th>\n",
       "      <th></th>\n",
       "      <th></th>\n",
       "    </tr>\n",
       "  </thead>\n",
       "  <tbody>\n",
       "    <tr>\n",
       "      <th>2022-06-27</th>\n",
       "      <td>474.602295</td>\n",
       "      <td>481.742751</td>\n",
       "      <td>471.746113</td>\n",
       "      <td>472.222143</td>\n",
       "      <td>37909718</td>\n",
       "    </tr>\n",
       "    <tr>\n",
       "      <th>2022-06-28</th>\n",
       "      <td>473.650177</td>\n",
       "      <td>476.030329</td>\n",
       "      <td>472.222086</td>\n",
       "      <td>472.222086</td>\n",
       "      <td>15274062</td>\n",
       "    </tr>\n",
       "    <tr>\n",
       "      <th>2022-06-29</th>\n",
       "      <td>467.461792</td>\n",
       "      <td>474.602247</td>\n",
       "      <td>467.461792</td>\n",
       "      <td>472.222095</td>\n",
       "      <td>30533789</td>\n",
       "    </tr>\n",
       "    <tr>\n",
       "      <th>2022-06-30</th>\n",
       "      <td>453.180847</td>\n",
       "      <td>463.177484</td>\n",
       "      <td>453.180847</td>\n",
       "      <td>461.273362</td>\n",
       "      <td>46311432</td>\n",
       "    </tr>\n",
       "    <tr>\n",
       "      <th>2022-07-01</th>\n",
       "      <td>431.759491</td>\n",
       "      <td>451.276734</td>\n",
       "      <td>430.807430</td>\n",
       "      <td>448.896582</td>\n",
       "      <td>61744377</td>\n",
       "    </tr>\n",
       "    <tr>\n",
       "      <th>...</th>\n",
       "      <td>...</td>\n",
       "      <td>...</td>\n",
       "      <td>...</td>\n",
       "      <td>...</td>\n",
       "      <td>...</td>\n",
       "    </tr>\n",
       "    <tr>\n",
       "      <th>2025-02-21</th>\n",
       "      <td>1095.000000</td>\n",
       "      <td>1095.000000</td>\n",
       "      <td>1080.000000</td>\n",
       "      <td>1085.000000</td>\n",
       "      <td>28972910</td>\n",
       "    </tr>\n",
       "    <tr>\n",
       "      <th>2025-02-24</th>\n",
       "      <td>1075.000000</td>\n",
       "      <td>1085.000000</td>\n",
       "      <td>1075.000000</td>\n",
       "      <td>1080.000000</td>\n",
       "      <td>30822970</td>\n",
       "    </tr>\n",
       "    <tr>\n",
       "      <th>2025-02-25</th>\n",
       "      <td>1055.000000</td>\n",
       "      <td>1060.000000</td>\n",
       "      <td>1050.000000</td>\n",
       "      <td>1055.000000</td>\n",
       "      <td>45158522</td>\n",
       "    </tr>\n",
       "    <tr>\n",
       "      <th>2025-02-26</th>\n",
       "      <td>1060.000000</td>\n",
       "      <td>1060.000000</td>\n",
       "      <td>1045.000000</td>\n",
       "      <td>1045.000000</td>\n",
       "      <td>36768449</td>\n",
       "    </tr>\n",
       "    <tr>\n",
       "      <th>2025-02-27</th>\n",
       "      <td>1040.000000</td>\n",
       "      <td>1065.000000</td>\n",
       "      <td>1040.000000</td>\n",
       "      <td>1065.000000</td>\n",
       "      <td>58155304</td>\n",
       "    </tr>\n",
       "  </tbody>\n",
       "</table>\n",
       "<p>648 rows × 5 columns</p>\n",
       "</div>"
      ],
      "text/plain": [
       "Price             Close         High          Low         Open    Volume\n",
       "Ticker          2330.TW      2330.TW      2330.TW      2330.TW   2330.TW\n",
       "Date                                                                    \n",
       "2022-06-27   474.602295   481.742751   471.746113   472.222143  37909718\n",
       "2022-06-28   473.650177   476.030329   472.222086   472.222086  15274062\n",
       "2022-06-29   467.461792   474.602247   467.461792   472.222095  30533789\n",
       "2022-06-30   453.180847   463.177484   453.180847   461.273362  46311432\n",
       "2022-07-01   431.759491   451.276734   430.807430   448.896582  61744377\n",
       "...                 ...          ...          ...          ...       ...\n",
       "2025-02-21  1095.000000  1095.000000  1080.000000  1085.000000  28972910\n",
       "2025-02-24  1075.000000  1085.000000  1075.000000  1080.000000  30822970\n",
       "2025-02-25  1055.000000  1060.000000  1050.000000  1055.000000  45158522\n",
       "2025-02-26  1060.000000  1060.000000  1045.000000  1045.000000  36768449\n",
       "2025-02-27  1040.000000  1065.000000  1040.000000  1065.000000  58155304\n",
       "\n",
       "[648 rows x 5 columns]"
      ]
     },
     "execution_count": 35,
     "metadata": {},
     "output_type": "execute_result"
    }
   ],
   "source": [
    "df"
   ]
  },
  {
   "cell_type": "code",
   "execution_count": 3,
   "id": "0984be65-0c1b-43c1-87e4-da0d49794cfd",
   "metadata": {},
   "outputs": [
    {
     "data": {
      "text/plain": [
       "'C:\\\\Users\\\\user'"
      ]
     },
     "execution_count": 3,
     "metadata": {},
     "output_type": "execute_result"
    }
   ],
   "source": [
    "import os\n",
    "os.getcwd()"
   ]
  },
  {
   "cell_type": "code",
   "execution_count": 9,
   "id": "4bd6e3bc-b184-4646-8bab-c65c619cbfe5",
   "metadata": {},
   "outputs": [
    {
     "data": {
      "text/plain": [
       "'C:\\\\Users\\\\user\\\\Downloads'"
      ]
     },
     "execution_count": 9,
     "metadata": {},
     "output_type": "execute_result"
    }
   ],
   "source": [
    "os.chdir(\"C:\\\\Users\\\\user\\\\Downloads\") \n",
    "os.getcwd()"
   ]
  },
  {
   "cell_type": "code",
   "execution_count": 11,
   "id": "a5fa6ce8-2d82-476c-957c-a0e6a1055381",
   "metadata": {},
   "outputs": [
    {
     "name": "stdout",
     "output_type": "stream",
     "text": [
      "Collecting ucimlrepo\n",
      "  Downloading ucimlrepo-0.0.7-py3-none-any.whl.metadata (5.5 kB)\n",
      "Requirement already satisfied: pandas>=1.0.0 in c:\\users\\user\\anaconda3\\lib\\site-packages (from ucimlrepo) (2.2.2)\n",
      "Requirement already satisfied: certifi>=2020.12.5 in c:\\users\\user\\anaconda3\\lib\\site-packages (from ucimlrepo) (2025.1.31)\n",
      "Requirement already satisfied: numpy>=1.26.0 in c:\\users\\user\\anaconda3\\lib\\site-packages (from pandas>=1.0.0->ucimlrepo) (1.26.4)\n",
      "Requirement already satisfied: python-dateutil>=2.8.2 in c:\\users\\user\\anaconda3\\lib\\site-packages (from pandas>=1.0.0->ucimlrepo) (2.9.0.post0)\n",
      "Requirement already satisfied: pytz>=2020.1 in c:\\users\\user\\anaconda3\\lib\\site-packages (from pandas>=1.0.0->ucimlrepo) (2024.1)\n",
      "Requirement already satisfied: tzdata>=2022.7 in c:\\users\\user\\anaconda3\\lib\\site-packages (from pandas>=1.0.0->ucimlrepo) (2023.3)\n",
      "Requirement already satisfied: six>=1.5 in c:\\users\\user\\anaconda3\\lib\\site-packages (from python-dateutil>=2.8.2->pandas>=1.0.0->ucimlrepo) (1.16.0)\n",
      "Downloading ucimlrepo-0.0.7-py3-none-any.whl (8.0 kB)\n",
      "Installing collected packages: ucimlrepo\n",
      "Successfully installed ucimlrepo-0.0.7\n"
     ]
    }
   ],
   "source": [
    "!pip install ucimlrepo"
   ]
  },
  {
   "cell_type": "code",
   "execution_count": 13,
   "id": "ee5ee041-3c90-444e-b598-94550179ee6d",
   "metadata": {},
   "outputs": [
    {
     "name": "stdout",
     "output_type": "stream",
     "text": [
      "{'uci_id': 350, 'name': 'Default of Credit Card Clients', 'repository_url': 'https://archive.ics.uci.edu/dataset/350/default+of+credit+card+clients', 'data_url': 'https://archive.ics.uci.edu/static/public/350/data.csv', 'abstract': \"This research aimed at the case of customers' default payments in Taiwan and compares the predictive accuracy of probability of default among six data mining methods.\", 'area': 'Business', 'tasks': ['Classification'], 'characteristics': ['Multivariate'], 'num_instances': 30000, 'num_features': 23, 'feature_types': ['Integer', 'Real'], 'demographics': ['Sex', 'Education Level', 'Marital Status', 'Age'], 'target_col': ['Y'], 'index_col': ['ID'], 'has_missing_values': 'no', 'missing_values_symbol': None, 'year_of_dataset_creation': 2009, 'last_updated': 'Fri Mar 29 2024', 'dataset_doi': '10.24432/C55S3H', 'creators': ['I-Cheng Yeh'], 'intro_paper': {'ID': 365, 'type': 'NATIVE', 'title': 'The comparisons of data mining techniques for the predictive accuracy of probability of default of credit card clients', 'authors': 'I. Yeh, Che-hui Lien', 'venue': 'Expert systems with applications', 'year': 2009, 'journal': None, 'DOI': '10.1016/j.eswa.2007.12.020', 'URL': 'https://www.semanticscholar.org/paper/1cacac4f0ea9fdff3cd88c151c94115a9fddcf33', 'sha': None, 'corpus': None, 'arxiv': None, 'mag': None, 'acl': None, 'pmid': None, 'pmcid': None}, 'additional_info': {'summary': \"This research aimed at the case of customers' default payments in Taiwan and compares the predictive accuracy of probability of default among six data mining methods. From the perspective of risk management, the result of predictive accuracy of the estimated probability of default will be more valuable than the binary result of classification - credible or not credible clients. Because the real probability of default is unknown, this study presented the novel Sorting Smoothing Method to estimate the real probability of default. With the real probability of default as the response variable (Y), and the predictive probability of default as the independent variable (X), the simple linear regression result (Y = A + BX) shows that the forecasting model produced by artificial neural network has the highest coefficient of determination; its regression intercept (A) is close to zero, and regression coefficient (B) to one. Therefore, among the six data mining techniques, artificial neural network is the only one that can accurately estimate the real probability of default.\", 'purpose': None, 'funded_by': None, 'instances_represent': None, 'recommended_data_splits': None, 'sensitive_data': None, 'preprocessing_description': None, 'variable_info': 'This research employed a binary variable, default payment (Yes = 1, No = 0), as the response variable. This study reviewed the literature and used the following 23 variables as explanatory variables:\\r\\nX1: Amount of the given credit (NT dollar): it includes both the individual consumer credit and his/her family (supplementary) credit.\\r\\nX2: Gender (1 = male; 2 = female).\\r\\nX3: Education (1 = graduate school; 2 = university; 3 = high school; 4 = others).\\r\\nX4: Marital status (1 = married; 2 = single; 3 = others).\\r\\nX5: Age (year).\\r\\nX6 - X11: History of past payment. We tracked the past monthly payment records (from April to September, 2005) as follows: X6 = the repayment status in September, 2005; X7 = the repayment status in August, 2005; . . .;X11 = the repayment status in April, 2005. The measurement scale for the repayment status is: -1 = pay duly; 1 = payment delay for one month; 2 = payment delay for two months; . . .; 8 = payment delay for eight months; 9 = payment delay for nine months and above.\\r\\nX12-X17: Amount of bill statement (NT dollar). X12 = amount of bill statement in September, 2005; X13 = amount of bill statement in August, 2005; . . .; X17 = amount of bill statement in April, 2005. \\r\\nX18-X23: Amount of previous payment (NT dollar). X18 = amount paid in September, 2005; X19 = amount paid in August, 2005; . . .;X23 = amount paid in April, 2005.\\r\\n', 'citation': None}}\n",
      "   name     role     type      demographic                 description units  \\\n",
      "0    ID       ID  Integer             None                        None  None   \n",
      "1    X1  Feature  Integer             None                   LIMIT_BAL  None   \n",
      "2    X2  Feature  Integer              Sex                         SEX  None   \n",
      "3    X3  Feature  Integer  Education Level                   EDUCATION  None   \n",
      "4    X4  Feature  Integer   Marital Status                    MARRIAGE  None   \n",
      "5    X5  Feature  Integer              Age                         AGE  None   \n",
      "6    X6  Feature  Integer             None                       PAY_0  None   \n",
      "7    X7  Feature  Integer             None                       PAY_2  None   \n",
      "8    X8  Feature  Integer             None                       PAY_3  None   \n",
      "9    X9  Feature  Integer             None                       PAY_4  None   \n",
      "10  X10  Feature  Integer             None                       PAY_5  None   \n",
      "11  X11  Feature  Integer             None                       PAY_6  None   \n",
      "12  X12  Feature  Integer             None                   BILL_AMT1  None   \n",
      "13  X13  Feature  Integer             None                   BILL_AMT2  None   \n",
      "14  X14  Feature  Integer             None                   BILL_AMT3  None   \n",
      "15  X15  Feature  Integer             None                   BILL_AMT4  None   \n",
      "16  X16  Feature  Integer             None                   BILL_AMT5  None   \n",
      "17  X17  Feature  Integer             None                   BILL_AMT6  None   \n",
      "18  X18  Feature  Integer             None                    PAY_AMT1  None   \n",
      "19  X19  Feature  Integer             None                    PAY_AMT2  None   \n",
      "20  X20  Feature  Integer             None                    PAY_AMT3  None   \n",
      "21  X21  Feature  Integer             None                    PAY_AMT4  None   \n",
      "22  X22  Feature  Integer             None                    PAY_AMT5  None   \n",
      "23  X23  Feature  Integer             None                    PAY_AMT6  None   \n",
      "24    Y   Target   Binary             None  default payment next month  None   \n",
      "\n",
      "   missing_values  \n",
      "0              no  \n",
      "1              no  \n",
      "2              no  \n",
      "3              no  \n",
      "4              no  \n",
      "5              no  \n",
      "6              no  \n",
      "7              no  \n",
      "8              no  \n",
      "9              no  \n",
      "10             no  \n",
      "11             no  \n",
      "12             no  \n",
      "13             no  \n",
      "14             no  \n",
      "15             no  \n",
      "16             no  \n",
      "17             no  \n",
      "18             no  \n",
      "19             no  \n",
      "20             no  \n",
      "21             no  \n",
      "22             no  \n",
      "23             no  \n",
      "24             no  \n"
     ]
    }
   ],
   "source": [
    "from ucimlrepo import fetch_ucirepo \n",
    "  \n",
    "# fetch dataset \n",
    "default_of_credit_card_clients = fetch_ucirepo(id=350) \n",
    "  \n",
    "# data (as pandas dataframes) \n",
    "X = default_of_credit_card_clients.data.features \n",
    "y = default_of_credit_card_clients.data.targets \n",
    "  \n",
    "# metadata \n",
    "print(default_of_credit_card_clients.metadata) \n",
    "  \n",
    "# variable information \n",
    "print(default_of_credit_card_clients.variables) \n"
   ]
  },
  {
   "cell_type": "code",
   "execution_count": 15,
   "id": "6ccfd871-63a1-41f8-8804-76e3dc0c48e7",
   "metadata": {},
   "outputs": [
    {
     "data": {
      "text/plain": [
       "ucimlrepo.dotdict.dotdict"
      ]
     },
     "execution_count": 15,
     "metadata": {},
     "output_type": "execute_result"
    }
   ],
   "source": [
    "type(default_of_credit_card_clients)"
   ]
  },
  {
   "cell_type": "code",
   "execution_count": 21,
   "id": "bd994946-bf37-4774-8347-c743302b99ce",
   "metadata": {},
   "outputs": [
    {
     "name": "stdout",
     "output_type": "stream",
     "text": [
      "-------------------------------------\n",
      "The following datasets are available:\n",
      "-------------------------------------\n",
      "Dataset Name                                                                            ID    \n",
      "------------                                                                            --    \n",
      "Abalone                                                                                 1     \n",
      "Adult                                                                                   2     \n",
      "Annealing                                                                               3     \n",
      "Audiology (Standardized)                                                                8     \n",
      "Auto MPG                                                                                9     \n",
      "Automobile                                                                              10    \n",
      "Balance Scale                                                                           12    \n",
      "Balloons                                                                                13    \n",
      "Breast Cancer                                                                           14    \n",
      "Breast Cancer Wisconsin (Original)                                                      15    \n",
      "Breast Cancer Wisconsin (Prognostic)                                                    16    \n",
      "Breast Cancer Wisconsin (Diagnostic)                                                    17    \n",
      "Pittsburgh Bridges                                                                      18    \n",
      "Car Evaluation                                                                          19    \n",
      "Census Income                                                                           20    \n",
      "Chess (King-Rook vs. King-Pawn)                                                         22    \n",
      "Chess (King-Rook vs. King)                                                              23    \n",
      "Connect-4                                                                               26    \n",
      "Credit Approval                                                                         27    \n",
      "Japanese Credit Screening                                                               28    \n",
      "Computer Hardware                                                                       29    \n",
      "Contraceptive Method Choice                                                             30    \n",
      "Covertype                                                                               31    \n",
      "Cylinder Bands                                                                          32    \n",
      "Dermatology                                                                             33    \n",
      "Echocardiogram                                                                          38    \n",
      "Ecoli                                                                                   39    \n",
      "Flags                                                                                   40    \n",
      "Glass Identification                                                                    42    \n",
      "Haberman's Survival                                                                     43    \n",
      "Hayes-Roth                                                                              44    \n",
      "Heart Disease                                                                           45    \n",
      "Hepatitis                                                                               46    \n",
      "Horse Colic                                                                             47    \n",
      "Image Segmentation                                                                      50    \n",
      "Ionosphere                                                                              52    \n",
      "Iris                                                                                    53    \n",
      "ISOLET                                                                                  54    \n",
      "Lenses                                                                                  58    \n",
      "Letter Recognition                                                                      59    \n",
      "Liver Disorders                                                                         60    \n",
      "Lung Cancer                                                                             62    \n",
      "Lymphography                                                                            63    \n",
      "Molecular Biology (Splice-junction Gene Sequences)                                      69    \n",
      "MONK's Problems                                                                         70    \n",
      "Mushroom                                                                                73    \n",
      "Musk (Version 1)                                                                        74    \n",
      "Musk (Version 2)                                                                        75    \n",
      "Nursery                                                                                 76    \n",
      "Page Blocks Classification                                                              78    \n",
      "Optical Recognition of Handwritten Digits                                               80    \n",
      "Pen-Based Recognition of Handwritten Digits                                             81    \n",
      "Post-Operative Patient                                                                  82    \n",
      "Primary Tumor                                                                           83    \n",
      "Servo                                                                                   87    \n",
      "Shuttle Landing Control                                                                 88    \n",
      "Solar Flare                                                                             89    \n",
      "Soybean (Large)                                                                         90    \n",
      "Soybean (Small)                                                                         91    \n",
      "Challenger USA Space Shuttle O-Ring                                                     92    \n",
      "Spambase                                                                                94    \n",
      "SPECT Heart                                                                             95    \n",
      "SPECTF Heart                                                                            96    \n",
      "Tic-Tac-Toe Endgame                                                                     101   \n",
      "Congressional Voting Records                                                            105   \n",
      "Waveform Database Generator (Version 1)                                                 107   \n",
      "Wine                                                                                    109   \n",
      "Yeast                                                                                   110   \n",
      "Zoo                                                                                     111   \n",
      "US Census Data (1990)                                                                   116   \n",
      "Census-Income (KDD)                                                                     117   \n",
      "El Nino                                                                                 122   \n",
      "Statlog (Australian Credit Approval)                                                    143   \n",
      "Statlog (German Credit Data)                                                            144   \n",
      "Statlog (Heart)                                                                         145   \n",
      "Statlog (Landsat Satellite)                                                             146   \n",
      "Statlog (Image Segmentation)                                                            147   \n",
      "Statlog (Shuttle)                                                                       148   \n",
      "Statlog (Vehicle Silhouettes)                                                           149   \n",
      "Connectionist Bench (Sonar, Mines vs. Rocks)                                            151   \n",
      "Cloud                                                                                   155   \n",
      "Poker Hand                                                                              158   \n",
      "MAGIC Gamma Telescope                                                                   159   \n",
      "Mammographic Mass                                                                       161   \n",
      "Forest Fires                                                                            162   \n",
      "Concrete Compressive Strength                                                           165   \n",
      "Ozone Level Detection                                                                   172   \n",
      "Parkinsons                                                                              174   \n",
      "Blood Transfusion Service Center                                                        176   \n",
      "Communities and Crime                                                                   183   \n",
      "Acute Inflammations                                                                     184   \n",
      "Wine Quality                                                                            186   \n",
      "Parkinsons Telemonitoring                                                               189   \n",
      "Cardiotocography                                                                        193   \n",
      "Steel Plates Faults                                                                     198   \n",
      "Communities and Crime Unnormalized                                                      211   \n",
      "Vertebral Column                                                                        212   \n",
      "Bank Marketing                                                                          222   \n",
      "ILPD (Indian Liver Patient Dataset)                                                     225   \n",
      "Skin Segmentation                                                                       229   \n",
      "Individual Household Electric Power Consumption                                         235   \n",
      "Energy Efficiency                                                                       242   \n",
      "Fertility                                                                               244   \n",
      "ISTANBUL STOCK EXCHANGE                                                                 247   \n",
      "User Knowledge Modeling                                                                 257   \n",
      "EEG Eye State                                                                           264   \n",
      "Banknote Authentication                                                                 267   \n",
      "Gas Sensor Array Drift at Different Concentrations                                      270   \n",
      "Bike Sharing                                                                            275   \n",
      "Thoracic Surgery Data                                                                   277   \n",
      "Airfoil Self-Noise                                                                      291   \n",
      "Wholesale customers                                                                     292   \n",
      "Combined Cycle Power Plant                                                              294   \n",
      "Diabetes 130-US Hospitals for Years 1999-2008                                           296   \n",
      "Tennis Major Tournament Match Statistics                                                300   \n",
      "Dow Jones Index                                                                         312   \n",
      "Student Performance                                                                     320   \n",
      "Phishing Websites                                                                       327   \n",
      "Diabetic Retinopathy Debrecen                                                           329   \n",
      "Online News Popularity                                                                  332   \n",
      "Chronic Kidney Disease                                                                  336   \n",
      "Mice Protein Expression                                                                 342   \n",
      "Default of Credit Card Clients                                                          350   \n",
      "Online Retail                                                                           352   \n",
      "Occupancy Detection                                                                     357   \n",
      "Air Quality                                                                             360   \n",
      "Polish Companies Bankruptcy                                                             365   \n",
      "Dota2 Games Results                                                                     367   \n",
      "Facebook Metrics                                                                        368   \n",
      "HTRU2                                                                                   372   \n",
      "Drug Consumption (Quantified)                                                           373   \n",
      "Appliances Energy Prediction                                                            374   \n",
      "Website Phishing                                                                        379   \n",
      "YouTube Spam Collection                                                                 380   \n",
      "Beijing PM2.5                                                                           381   \n",
      "Cervical Cancer (Risk Factors)                                                          383   \n",
      "Stock Portfolio Performance                                                             390   \n",
      "Sales Transactions Weekly                                                               396   \n",
      "Daily Demand Forecasting Orders                                                         409   \n",
      "Autistic Spectrum Disorder Screening Data for Children                                  419   \n",
      "Autism Screening Adult                                                                  426   \n",
      "Absenteeism at work                                                                     445   \n",
      "Breast Cancer Coimbra                                                                   451   \n",
      "Drug Reviews (Druglib.com)                                                              461   \n",
      "Drug Reviews (Drugs.com)                                                                462   \n",
      "Superconductivty Data                                                                   464   \n",
      "Student Academics Performance                                                           467   \n",
      "Online Shoppers Purchasing Intention Dataset                                            468   \n",
      "Electrical Grid Stability Simulated Data                                                471   \n",
      "Real Estate Valuation                                                                   477   \n",
      "Travel Reviews                                                                          484   \n",
      "Travel Review Ratings                                                                   485   \n",
      "Facebook Live Sellers in Thailand                                                       488   \n",
      "Metro Interstate Traffic Volume                                                         492   \n",
      "Hepatitis C Virus (HCV) for Egyptian patients                                           503   \n",
      "Heart Failure Clinical Records                                                          519   \n",
      "Early Stage Diabetes Risk Prediction                                                    529   \n",
      "Pedestrians in Traffic                                                                  536   \n",
      "Cervical Cancer Behavior Risk                                                           537   \n",
      "Estimation of Obesity Levels Based On Eating Habits and Physical Condition              544   \n",
      "Rice (Cammeo and Osmancik)                                                              545   \n",
      "Algerian Forest Fires                                                                   547   \n",
      "Gas Turbine CO and NOx Emission Data Set                                                551   \n",
      "Apartment for Rent Classified                                                           555   \n",
      "Seoul Bike Sharing Demand                                                               560   \n",
      "Iranian Churn                                                                           563   \n",
      "Bone marrow transplant: children                                                        565   \n",
      "COVID-19 Surveillance                                                                   567   \n",
      "HCV data                                                                                571   \n",
      "Taiwanese Bankruptcy Prediction                                                         572   \n",
      "Myocardial infarction complications                                                     579   \n",
      "Student Performance on an Entrance Examination                                          582   \n",
      "Gender by Name                                                                          591   \n",
      "Productivity Prediction of Garment Employees                                            597   \n",
      "AI4I 2020 Predictive Maintenance Dataset                                                601   \n",
      "Dry Bean                                                                                602   \n",
      "In-Vehicle Coupon Recommendation                                                        603   \n",
      "Predict Students' Dropout and Academic Success                                          697   \n",
      "Auction Verification                                                                    713   \n",
      "NATICUSdroid (Android Permissions)                                                      722   \n",
      "Toxicity                                                                                728   \n",
      "DARWIN                                                                                  732   \n",
      "Accelerometer Gyro Mobile Phone                                                         755   \n",
      "Glioma Grading Clinical and Mutation Features                                           759   \n",
      "Multivariate Gait Data                                                                  760   \n",
      "Land Mines                                                                              763   \n",
      "Single Elder Home Monitoring: Gas and Position                                          799   \n",
      "Sepsis Survival Minimal Clinical Records                                                827   \n",
      "Secondary Mushroom                                                                      848   \n",
      "Power Consumption of Tetouan City                                                       849   \n",
      "Raisin                                                                                  850   \n",
      "Steel Industry Energy Consumption                                                       851   \n",
      "Higher Education Students Performance Evaluation                                        856   \n",
      "Risk Factor Prediction of Chronic Kidney Disease                                        857   \n",
      "Maternal Health Risk                                                                    863   \n",
      "Room Occupancy Estimation                                                               864   \n",
      "Cirrhosis Patient Survival Prediction                                                   878   \n",
      "SUPPORT2                                                                                880   \n",
      "National Health and Nutrition Health Survey 2013-2014 (NHANES) Age Prediction Subset    887   \n",
      "AIDS Clinical Trials Group Study 175                                                    890   \n",
      "CDC Diabetes Health Indicators                                                          891   \n",
      "Recipe Reviews and User Feedback                                                        911   \n",
      "Forty Soybean Cultivars from Subsequent Harvests                                        913   \n",
      "Differentiated Thyroid Cancer Recurrence                                                915   \n",
      "Infrared Thermography Temperature                                                       925   \n",
      "National Poll on Healthy Aging (NPHA)                                                   936   \n",
      "Regensburg Pediatric Appendicitis                                                       938   \n",
      "RT-IoT2022                                                                              942   \n",
      "PhiUSIIL Phishing URL (Website)                                                         967   \n",
      "\n"
     ]
    }
   ],
   "source": [
    "from ucimlrepo import fetch_ucirepo,list_available_datasets\n",
    "list_available_datasets()"
   ]
  },
  {
   "cell_type": "code",
   "execution_count": 23,
   "id": "c42c8c99-8cc0-4b72-a930-d3fd33748cb8",
   "metadata": {},
   "outputs": [],
   "source": [
    "# import dataset\n",
    "heart_disease = fetch_ucirepo(id=45)"
   ]
  },
  {
   "cell_type": "code",
   "execution_count": 25,
   "id": "f9964402-8366-44c7-9eae-ad6d5cf67721",
   "metadata": {},
   "outputs": [],
   "source": [
    "# import dataset\n",
    "Iris = fetch_ucirepo(id=53)"
   ]
  },
  {
   "cell_type": "code",
   "execution_count": 27,
   "id": "272e9ddb-aa47-4944-ae67-a6bcc664bdbd",
   "metadata": {},
   "outputs": [],
   "source": [
    "stock_list = [' 台積電 ', ' 鴻海 ', ' 聯發科 ', ' 中華電 ', ' 台塑化 ']"
   ]
  },
  {
   "cell_type": "code",
   "execution_count": 29,
   "id": "9e992ed5-cd0c-4805-ab89-4fe39b49e772",
   "metadata": {},
   "outputs": [
    {
     "name": "stdout",
     "output_type": "stream",
     "text": [
      " 股票清單 : [' 台積電 ', ' 鴻海 ', ' 聯發科 ', ' 中華電 ', ' 台塑化 ']\n"
     ]
    }
   ],
   "source": [
    "print(' 股票清單 :', stock_list)"
   ]
  },
  {
   "cell_type": "code",
   "execution_count": 31,
   "id": "55c82f19-5160-4a05-94ce-18e6c16f9c15",
   "metadata": {},
   "outputs": [
    {
     "name": "stdout",
     "output_type": "stream",
     "text": [
      "stock_list[0]:  台積電 \n"
     ]
    }
   ],
   "source": [
    "print('stock_list[0]:', stock_list[0])"
   ]
  },
  {
   "cell_type": "code",
   "execution_count": 33,
   "id": "cd88fd9d-7def-477b-a3a7-f83b3f7b6cb8",
   "metadata": {},
   "outputs": [],
   "source": [
    "stock_list[4]=' 台達電 '"
   ]
  },
  {
   "cell_type": "code",
   "execution_count": 35,
   "id": "c083b540-eacc-4452-87b6-83d9e13431e2",
   "metadata": {},
   "outputs": [
    {
     "name": "stdout",
     "output_type": "stream",
     "text": [
      " 股票清單 : [' 台積電 ', ' 鴻海 ', ' 聯發科 ', ' 中華電 ', ' 台達電 ']\n"
     ]
    }
   ],
   "source": [
    "print(' 股票清單 :', stock_list)"
   ]
  },
  {
   "cell_type": "code",
   "execution_count": 37,
   "id": "deed7174-fbf9-496a-8de1-20f09e743c0d",
   "metadata": {},
   "outputs": [],
   "source": [
    "stock_tuple = (' 台積電 ', ' 鴻海 ', ' 聯發科 ', ' 中華電 ', ' 台塑化 ')"
   ]
  },
  {
   "cell_type": "code",
   "execution_count": 39,
   "id": "a5f35bca-3703-4f17-bc16-175ec173f7ed",
   "metadata": {},
   "outputs": [
    {
     "data": {
      "text/plain": [
       "tuple"
      ]
     },
     "execution_count": 39,
     "metadata": {},
     "output_type": "execute_result"
    }
   ],
   "source": [
    "type(stock_tuple)"
   ]
  },
  {
   "cell_type": "code",
   "execution_count": 41,
   "id": "fad3f784-c310-4fa6-8568-40025f830250",
   "metadata": {},
   "outputs": [],
   "source": [
    "stock_dict = {'2330':' 台積電 ', '2317':' 鴻海 ', '2454':' 聯發科 '}"
   ]
  },
  {
   "cell_type": "code",
   "execution_count": 43,
   "id": "b723974c-263b-491b-b4a1-84cab806b08f",
   "metadata": {},
   "outputs": [
    {
     "data": {
      "text/plain": [
       "' 台積電 '"
      ]
     },
     "execution_count": 43,
     "metadata": {},
     "output_type": "execute_result"
    }
   ],
   "source": [
    "stock_dict['2330']"
   ]
  },
  {
   "cell_type": "code",
   "execution_count": 49,
   "id": "3627ac4b-ba70-4ec9-9ecf-d9c512eb65d1",
   "metadata": {},
   "outputs": [],
   "source": [
    "import pandas as pd\n",
    "df = pd.DataFrame({'col1': [1, 2], 'col2': [3, 4]})"
   ]
  },
  {
   "cell_type": "code",
   "execution_count": 51,
   "id": "cf96efd6-e141-4694-9812-60e72af29c16",
   "metadata": {},
   "outputs": [
    {
     "data": {
      "text/html": [
       "<div>\n",
       "<style scoped>\n",
       "    .dataframe tbody tr th:only-of-type {\n",
       "        vertical-align: middle;\n",
       "    }\n",
       "\n",
       "    .dataframe tbody tr th {\n",
       "        vertical-align: top;\n",
       "    }\n",
       "\n",
       "    .dataframe thead th {\n",
       "        text-align: right;\n",
       "    }\n",
       "</style>\n",
       "<table border=\"1\" class=\"dataframe\">\n",
       "  <thead>\n",
       "    <tr style=\"text-align: right;\">\n",
       "      <th></th>\n",
       "      <th>col1</th>\n",
       "      <th>col2</th>\n",
       "    </tr>\n",
       "  </thead>\n",
       "  <tbody>\n",
       "    <tr>\n",
       "      <th>0</th>\n",
       "      <td>1</td>\n",
       "      <td>3</td>\n",
       "    </tr>\n",
       "    <tr>\n",
       "      <th>1</th>\n",
       "      <td>2</td>\n",
       "      <td>4</td>\n",
       "    </tr>\n",
       "  </tbody>\n",
       "</table>\n",
       "</div>"
      ],
      "text/plain": [
       "   col1  col2\n",
       "0     1     3\n",
       "1     2     4"
      ]
     },
     "execution_count": 51,
     "metadata": {},
     "output_type": "execute_result"
    }
   ],
   "source": [
    "df"
   ]
  },
  {
   "cell_type": "code",
   "execution_count": 53,
   "id": "24450666-ab62-4b69-9f8d-fc63a6a1a79a",
   "metadata": {},
   "outputs": [],
   "source": [
    "dict_df = {\"股價\":[12,36,59]}"
   ]
  },
  {
   "cell_type": "code",
   "execution_count": 55,
   "id": "2d133e92-f41c-450c-92b8-35799f602175",
   "metadata": {},
   "outputs": [
    {
     "data": {
      "text/plain": [
       "dict"
      ]
     },
     "execution_count": 55,
     "metadata": {},
     "output_type": "execute_result"
    }
   ],
   "source": [
    "type(dict_df)"
   ]
  },
  {
   "cell_type": "code",
   "execution_count": 57,
   "id": "89cec164-b9e1-4b46-856d-02d6d42f0524",
   "metadata": {},
   "outputs": [],
   "source": [
    "df2 = pd.DataFrame(dict_df)"
   ]
  },
  {
   "cell_type": "code",
   "execution_count": 59,
   "id": "c2af0f55-bdab-4535-a38e-012bab48139e",
   "metadata": {},
   "outputs": [
    {
     "data": {
      "text/html": [
       "<div>\n",
       "<style scoped>\n",
       "    .dataframe tbody tr th:only-of-type {\n",
       "        vertical-align: middle;\n",
       "    }\n",
       "\n",
       "    .dataframe tbody tr th {\n",
       "        vertical-align: top;\n",
       "    }\n",
       "\n",
       "    .dataframe thead th {\n",
       "        text-align: right;\n",
       "    }\n",
       "</style>\n",
       "<table border=\"1\" class=\"dataframe\">\n",
       "  <thead>\n",
       "    <tr style=\"text-align: right;\">\n",
       "      <th></th>\n",
       "      <th>股價</th>\n",
       "    </tr>\n",
       "  </thead>\n",
       "  <tbody>\n",
       "    <tr>\n",
       "      <th>0</th>\n",
       "      <td>12</td>\n",
       "    </tr>\n",
       "    <tr>\n",
       "      <th>1</th>\n",
       "      <td>36</td>\n",
       "    </tr>\n",
       "    <tr>\n",
       "      <th>2</th>\n",
       "      <td>59</td>\n",
       "    </tr>\n",
       "  </tbody>\n",
       "</table>\n",
       "</div>"
      ],
      "text/plain": [
       "   股價\n",
       "0  12\n",
       "1  36\n",
       "2  59"
      ]
     },
     "execution_count": 59,
     "metadata": {},
     "output_type": "execute_result"
    }
   ],
   "source": [
    "df2"
   ]
  },
  {
   "cell_type": "code",
   "execution_count": 113,
   "id": "e9a17e12-baca-4fd5-b31f-7b5e03b35da8",
   "metadata": {},
   "outputs": [
    {
     "name": "stdout",
     "output_type": "stream",
     "text": [
      " 股票清單 : [' 台積電 ', ' 鴻海 ', ' 聯發科 ', ' 中華電 ', ' 台塑化 ']\n",
      "stock_list[0]:  台積電 \n",
      " 股票清單 : [' 台積電 ', ' 鴻海 ', ' 聯發科 ', ' 中華電 ', ' 台達電 ']\n"
     ]
    }
   ],
   "source": [
    "stock_list = [' 台積電 ', ' 鴻海 ', ' 聯發科 ', ' 中華電 ', ' 台塑化 ']\n",
    "print(' 股票清單 :', stock_list)\n",
    "print('stock_list[0]:', stock_list[0])\n",
    "stock_list[4]=' 台達電 '\n",
    "print(' 股票清單 :', stock_list)"
   ]
  },
  {
   "cell_type": "code",
   "execution_count": 63,
   "id": "184fd984-cc56-43f2-bfad-9b7adaf57455",
   "metadata": {},
   "outputs": [
    {
     "name": "stdout",
     "output_type": "stream",
     "text": [
      "8>3: True\n"
     ]
    }
   ],
   "source": [
    "print('8>3:', 8>3)"
   ]
  },
  {
   "cell_type": "code",
   "execution_count": 65,
   "id": "df4a9dfb-ce75-4a1f-b183-b5d22e53979b",
   "metadata": {},
   "outputs": [
    {
     "name": "stdout",
     "output_type": "stream",
     "text": [
      "8<3: False\n"
     ]
    }
   ],
   "source": [
    "print('8<3:', 8<3)"
   ]
  },
  {
   "cell_type": "code",
   "execution_count": 101,
   "id": "adade78f-587a-40dd-9f21-287c5ace6080",
   "metadata": {},
   "outputs": [],
   "source": [
    "T_1 = 1000"
   ]
  },
  {
   "cell_type": "code",
   "execution_count": 115,
   "id": "c5a062f5-a33e-451b-b553-df71128aa32f",
   "metadata": {},
   "outputs": [],
   "source": [
    "T_2 = 200"
   ]
  },
  {
   "cell_type": "code",
   "execution_count": 117,
   "id": "305d0e87-ca39-425d-bd80-9b5e942ced25",
   "metadata": {},
   "outputs": [],
   "source": [
    "Position_chg = 0"
   ]
  },
  {
   "cell_type": "code",
   "execution_count": 119,
   "id": "b9f269ca-cdd5-4a2b-9025-dae9996bad29",
   "metadata": {},
   "outputs": [
    {
     "name": "stdout",
     "output_type": "stream",
     "text": [
      "昨天TSMC股價比前天高，今天就去買2張\n",
      "Position_chg: 2\n"
     ]
    }
   ],
   "source": [
    "if T_1 > T_2:\n",
    "    Position_chg = 2\n",
    "    print(\"昨天TSMC股價比前天高，今天就去買2張\")\n",
    "    print(\"Position_chg:\", Position_chg)"
   ]
  },
  {
   "cell_type": "code",
   "execution_count": 121,
   "id": "b5db24c4-c5e9-4786-a5fd-8885936476aa",
   "metadata": {},
   "outputs": [
    {
     "name": "stdout",
     "output_type": "stream",
     "text": [
      "Position_chg: 2\n"
     ]
    }
   ],
   "source": [
    "print(\"Position_chg:\", Position_chg)"
   ]
  },
  {
   "cell_type": "code",
   "execution_count": 123,
   "id": "5968f414-f112-4351-b639-d71d738df29a",
   "metadata": {},
   "outputs": [
    {
     "name": "stdout",
     "output_type": "stream",
     "text": [
      "昨天TSMC股價比前天高100%以上，今天就去買2張\n",
      "Position_chg: 2\n"
     ]
    }
   ],
   "source": [
    "if T_1 > 2*T_2:\n",
    "    Position_chg = 2\n",
    "    print(\"昨天TSMC股價比前天高100%以上，今天就去買2張\")\n",
    "    print(\"Position_chg:\", Position_chg)\n",
    "elif T_1 > T_2:\n",
    "    Position_chg = 1\n",
    "    print(\"昨天TSMC股價比前天高以上，但沒有到達100%以上，今天就去買1張\")\n",
    "    print(\"Position_chg:\", Position_chg)\n",
    "else:\n",
    "    print(\"甚麼事都不做\")"
   ]
  },
  {
   "cell_type": "code",
   "execution_count": 125,
   "id": "c1d22275-e6ee-4549-b5df-efcea2e5ce35",
   "metadata": {},
   "outputs": [
    {
     "name": "stdout",
     "output_type": "stream",
     "text": [
      "昨天TSMC股價比前天高100%以上，今天就去買2張\n",
      "Position_chg: 2\n",
      "昨天TSMC股價比前天高以上，但沒有到達100%以上，今天就去買1張\n",
      "Position_chg: 1\n"
     ]
    }
   ],
   "source": [
    "if T_1 > 2*T_2:\n",
    "    Position_chg = 2\n",
    "    print(\"昨天TSMC股價比前天高100%以上，今天就去買2張\")\n",
    "    print(\"Position_chg:\", Position_chg)\n",
    "if T_1 > T_2:\n",
    "    Position_chg = 1\n",
    "    print(\"昨天TSMC股價比前天高以上，但沒有到達100%以上，今天就去買1張\")\n",
    "    print(\"Position_chg:\", Position_chg)"
   ]
  },
  {
   "cell_type": "code",
   "execution_count": 135,
   "id": "c2eb37e6-8d6d-4cb9-b938-fc3d45d29463",
   "metadata": {},
   "outputs": [
    {
     "ename": "SyntaxError",
     "evalue": "expected ':' (3719019686.py, line 5)",
     "output_type": "error",
     "traceback": [
      "\u001b[1;36m  Cell \u001b[1;32mIn[135], line 5\u001b[1;36m\u001b[0m\n\u001b[1;33m    else T_1 > T_2:\u001b[0m\n\u001b[1;37m         ^\u001b[0m\n\u001b[1;31mSyntaxError\u001b[0m\u001b[1;31m:\u001b[0m expected ':'\n"
     ]
    }
   ],
   "source": [
    "if T_1 > 2*T_2:\n",
    "    Position_chg = 2\n",
    "    print(\"昨天TSMC股價比前天高100%以上，今天就去買2張\")\n",
    "    print(\"Position_chg:\", Position_chg)\n",
    "else T_1 > T_2:\n",
    "    Position_chg = 1\n",
    "    print(\"昨天TSMC股價比前天高以上，但沒有到達100%以上，今天就去買1張\")\n",
    "    print(\"Position_chg:\", Position_chg)"
   ]
  },
  {
   "cell_type": "code",
   "execution_count": 137,
   "id": "de6473ef-8df8-4856-82e8-1c6b198cf22b",
   "metadata": {},
   "outputs": [
    {
     "name": "stdout",
     "output_type": "stream",
     "text": [
      "3.12.7 | packaged by Anaconda, Inc. | (main, Oct  4 2024, 13:17:27) [MSC v.1929 64 bit (AMD64)]\n",
      "C:\\Users\\user\\anaconda3\\python.exe\n"
     ]
    }
   ],
   "source": [
    "import sys\n",
    "print(sys.version)\n",
    "print(sys.executable)"
   ]
  },
  {
   "cell_type": "code",
   "execution_count": 1,
   "id": "17fd35c7-9b61-40cf-b58c-b84148e8f00f",
   "metadata": {},
   "outputs": [
    {
     "name": "stdout",
     "output_type": "stream",
     "text": [
      "Requirement already satisfied: yfinance in c:\\users\\user\\anaconda3\\lib\\site-packages (0.2.54)\n",
      "Requirement already satisfied: pandas>=1.3.0 in c:\\users\\user\\anaconda3\\lib\\site-packages (from yfinance) (2.2.2)\n",
      "Requirement already satisfied: numpy>=1.16.5 in c:\\users\\user\\anaconda3\\lib\\site-packages (from yfinance) (1.26.4)\n",
      "Requirement already satisfied: requests>=2.31 in c:\\users\\user\\anaconda3\\lib\\site-packages (from yfinance) (2.32.3)\n",
      "Requirement already satisfied: multitasking>=0.0.7 in c:\\users\\user\\anaconda3\\lib\\site-packages (from yfinance) (0.0.11)\n",
      "Requirement already satisfied: platformdirs>=2.0.0 in c:\\users\\user\\anaconda3\\lib\\site-packages (from yfinance) (3.10.0)\n",
      "Requirement already satisfied: pytz>=2022.5 in c:\\users\\user\\anaconda3\\lib\\site-packages (from yfinance) (2024.1)\n",
      "Requirement already satisfied: frozendict>=2.3.4 in c:\\users\\user\\anaconda3\\lib\\site-packages (from yfinance) (2.4.2)\n",
      "Requirement already satisfied: peewee>=3.16.2 in c:\\users\\user\\anaconda3\\lib\\site-packages (from yfinance) (3.17.9)\n",
      "Requirement already satisfied: beautifulsoup4>=4.11.1 in c:\\users\\user\\anaconda3\\lib\\site-packages (from yfinance) (4.12.3)\n",
      "Requirement already satisfied: soupsieve>1.2 in c:\\users\\user\\anaconda3\\lib\\site-packages (from beautifulsoup4>=4.11.1->yfinance) (2.5)\n",
      "Requirement already satisfied: python-dateutil>=2.8.2 in c:\\users\\user\\anaconda3\\lib\\site-packages (from pandas>=1.3.0->yfinance) (2.9.0.post0)\n",
      "Requirement already satisfied: tzdata>=2022.7 in c:\\users\\user\\anaconda3\\lib\\site-packages (from pandas>=1.3.0->yfinance) (2023.3)\n",
      "Requirement already satisfied: charset-normalizer<4,>=2 in c:\\users\\user\\anaconda3\\lib\\site-packages (from requests>=2.31->yfinance) (3.3.2)\n",
      "Requirement already satisfied: idna<4,>=2.5 in c:\\users\\user\\anaconda3\\lib\\site-packages (from requests>=2.31->yfinance) (3.7)\n",
      "Requirement already satisfied: urllib3<3,>=1.21.1 in c:\\users\\user\\anaconda3\\lib\\site-packages (from requests>=2.31->yfinance) (2.2.3)\n",
      "Requirement already satisfied: certifi>=2017.4.17 in c:\\users\\user\\anaconda3\\lib\\site-packages (from requests>=2.31->yfinance) (2025.1.31)\n",
      "Requirement already satisfied: six>=1.5 in c:\\users\\user\\anaconda3\\lib\\site-packages (from python-dateutil>=2.8.2->pandas>=1.3.0->yfinance) (1.16.0)\n"
     ]
    }
   ],
   "source": [
    "!pip install yfinance"
   ]
  },
  {
   "cell_type": "code",
   "execution_count": null,
   "id": "5406057c-72e4-4420-b185-46a97395d9ca",
   "metadata": {},
   "outputs": [],
   "source": [
    "!pip install \"C:\\\\Users\\\\user\\anaconda3\\\\\""
   ]
  },
  {
   "cell_type": "code",
   "execution_count": 3,
   "id": "f937fec7-375e-417a-8417-0c4ac15cc766",
   "metadata": {},
   "outputs": [
    {
     "name": "stdout",
     "output_type": "stream",
     "text": [
      "Collecting ta-lib\n",
      "  Downloading ta_lib-0.6.3.tar.gz (376 kB)\n",
      "  Installing build dependencies: started\n",
      "  Installing build dependencies: finished with status 'done'\n",
      "  Getting requirements to build wheel: started\n",
      "  Getting requirements to build wheel: finished with status 'done'\n",
      "  Installing backend dependencies: started\n",
      "  Installing backend dependencies: finished with status 'done'\n",
      "  Preparing metadata (pyproject.toml): started\n",
      "  Preparing metadata (pyproject.toml): finished with status 'done'\n",
      "Requirement already satisfied: setuptools in c:\\users\\user\\anaconda3\\lib\\site-packages (from ta-lib) (75.1.0)\n",
      "Requirement already satisfied: numpy in c:\\users\\user\\anaconda3\\lib\\site-packages (from ta-lib) (1.26.4)\n",
      "Building wheels for collected packages: ta-lib\n",
      "  Building wheel for ta-lib (pyproject.toml): started\n",
      "  Building wheel for ta-lib (pyproject.toml): finished with status 'error'\n",
      "Failed to build ta-lib\n"
     ]
    },
    {
     "name": "stderr",
     "output_type": "stream",
     "text": [
      "  error: subprocess-exited-with-error\n",
      "  \n",
      "  × Building wheel for ta-lib (pyproject.toml) did not run successfully.\n",
      "  │ exit code: 1\n",
      "  ╰─> [58 lines of output]\n",
      "      <string>:83: UserWarning: Cannot find ta-lib library, installation may fail.\n",
      "      C:\\Users\\user\\AppData\\Local\\Temp\\pip-build-env-dq_p2af3\\overlay\\Lib\\site-packages\\setuptools\\config\\_apply_pyprojecttoml.py:82: SetuptoolsWarning: `install_requires` overwritten in `pyproject.toml` (dependencies)\n",
      "        corresp(dist, value, root_dir)\n",
      "      C:\\Users\\user\\AppData\\Local\\Temp\\pip-build-env-dq_p2af3\\overlay\\Lib\\site-packages\\setuptools\\config\\_apply_pyprojecttoml.py:61: SetuptoolsDeprecationWarning: License classifiers are deprecated.\n",
      "      !!\n",
      "      \n",
      "              ********************************************************************************\n",
      "              Please consider removing the following classifiers in favor of a SPDX license expression:\n",
      "      \n",
      "              License :: OSI Approved :: BSD License\n",
      "      \n",
      "              See https://packaging.python.org/en/latest/guides/writing-pyproject-toml/#license for details.\n",
      "              ********************************************************************************\n",
      "      \n",
      "      !!\n",
      "        dist._finalize_license_expression()\n",
      "      C:\\Users\\user\\AppData\\Local\\Temp\\pip-build-env-dq_p2af3\\overlay\\Lib\\site-packages\\setuptools\\dist.py:759: SetuptoolsDeprecationWarning: License classifiers are deprecated.\n",
      "      !!\n",
      "      \n",
      "              ********************************************************************************\n",
      "              Please consider removing the following classifiers in favor of a SPDX license expression:\n",
      "      \n",
      "              License :: OSI Approved :: BSD License\n",
      "      \n",
      "              See https://packaging.python.org/en/latest/guides/writing-pyproject-toml/#license for details.\n",
      "              ********************************************************************************\n",
      "      \n",
      "      !!\n",
      "        self._finalize_license_expression()\n",
      "      running bdist_wheel\n",
      "      running build\n",
      "      running build_py\n",
      "      creating build\\lib.win-amd64-cpython-312\\talib\n",
      "      copying talib\\abstract.py -> build\\lib.win-amd64-cpython-312\\talib\n",
      "      copying talib\\deprecated.py -> build\\lib.win-amd64-cpython-312\\talib\n",
      "      copying talib\\stream.py -> build\\lib.win-amd64-cpython-312\\talib\n",
      "      copying talib\\__init__.py -> build\\lib.win-amd64-cpython-312\\talib\n",
      "      running egg_info\n",
      "      writing ta_lib.egg-info\\PKG-INFO\n",
      "      writing dependency_links to ta_lib.egg-info\\dependency_links.txt\n",
      "      writing requirements to ta_lib.egg-info\\requires.txt\n",
      "      writing top-level names to ta_lib.egg-info\\top_level.txt\n",
      "      reading manifest file 'ta_lib.egg-info\\SOURCES.txt'\n",
      "      reading manifest template 'MANIFEST.in'\n",
      "      adding license file 'LICENSE'\n",
      "      adding license file 'AUTHORS'\n",
      "      writing manifest file 'ta_lib.egg-info\\SOURCES.txt'\n",
      "      copying talib\\_abstract.pxi -> build\\lib.win-amd64-cpython-312\\talib\n",
      "      copying talib\\_common.pxi -> build\\lib.win-amd64-cpython-312\\talib\n",
      "      copying talib\\_func.pxi -> build\\lib.win-amd64-cpython-312\\talib\n",
      "      copying talib\\_stream.pxi -> build\\lib.win-amd64-cpython-312\\talib\n",
      "      copying talib\\_ta_lib.c -> build\\lib.win-amd64-cpython-312\\talib\n",
      "      copying talib\\_ta_lib.pyi -> build\\lib.win-amd64-cpython-312\\talib\n",
      "      copying talib\\_ta_lib.pyx -> build\\lib.win-amd64-cpython-312\\talib\n",
      "      copying talib\\py.typed -> build\\lib.win-amd64-cpython-312\\talib\n",
      "      running build_ext\n",
      "      building 'talib._ta_lib' extension\n",
      "      error: Microsoft Visual C++ 14.0 or greater is required. Get it with \"Microsoft C++ Build Tools\": https://visualstudio.microsoft.com/visual-cpp-build-tools/\n",
      "      [end of output]\n",
      "  \n",
      "  note: This error originates from a subprocess, and is likely not a problem with pip.\n",
      "  ERROR: Failed building wheel for ta-lib\n",
      "ERROR: ERROR: Failed to build installable wheels for some pyproject.toml based projects (ta-lib)\n"
     ]
    }
   ],
   "source": [
    "!pip install ta-lib"
   ]
  },
  {
   "cell_type": "code",
   "execution_count": 5,
   "id": "890f5c66-a6b8-47ac-8b15-178bc6eb8b51",
   "metadata": {},
   "outputs": [
    {
     "name": "stdout",
     "output_type": "stream",
     "text": [
      "3.12.7 | packaged by Anaconda, Inc. | (main, Oct  4 2024, 13:17:27) [MSC v.1929 64 bit (AMD64)]\n",
      "C:\\Users\\user\\anaconda3\\python.exe\n"
     ]
    }
   ],
   "source": [
    "import sys\n",
    "print(sys.version)\n",
    "print(sys.executable)"
   ]
  },
  {
   "cell_type": "code",
   "execution_count": 7,
   "id": "c9e9d1ac-9e75-48af-8863-57f94ccc629c",
   "metadata": {},
   "outputs": [
    {
     "name": "stdout",
     "output_type": "stream",
     "text": [
      "Processing c:\\users\\user\\downloads\\ta_lib-0.6.3-cp312-cp312-win_amd64.whl\n",
      "Requirement already satisfied: setuptools in c:\\users\\user\\anaconda3\\lib\\site-packages (from ta-lib==0.6.3) (75.1.0)\n",
      "Requirement already satisfied: numpy in c:\\users\\user\\anaconda3\\lib\\site-packages (from ta-lib==0.6.3) (1.26.4)\n",
      "Installing collected packages: ta-lib\n",
      "Successfully installed ta-lib-0.6.3\n"
     ]
    }
   ],
   "source": [
    "!pip install \"C:\\\\Users\\\\user\\\\Downloads\\\\ta_lib-0.6.3-cp312-cp312-win_amd64.whl"
   ]
  },
  {
   "cell_type": "code",
   "execution_count": 9,
   "id": "cc02e91d-02a9-42d6-bd41-4a103e0b8a9e",
   "metadata": {},
   "outputs": [
    {
     "name": "stdout",
     "output_type": "stream",
     "text": [
      "Requirement already satisfied: ta-lib in c:\\users\\user\\anaconda3\\lib\\site-packages (0.6.3)\n",
      "Requirement already satisfied: setuptools in c:\\users\\user\\anaconda3\\lib\\site-packages (from ta-lib) (75.1.0)\n",
      "Requirement already satisfied: numpy in c:\\users\\user\\anaconda3\\lib\\site-packages (from ta-lib) (1.26.4)\n"
     ]
    }
   ],
   "source": [
    "!pip install ta-lib"
   ]
  },
  {
   "cell_type": "code",
   "execution_count": 11,
   "id": "4a75275b-11cc-44bb-a533-6124bd1bd566",
   "metadata": {},
   "outputs": [],
   "source": [
    "import talib"
   ]
  },
  {
   "cell_type": "code",
   "execution_count": null,
   "id": "1988ab9a-f7ac-4e53-9b95-514c79861a54",
   "metadata": {},
   "outputs": [],
   "source": []
  }
 ],
 "metadata": {
  "kernelspec": {
   "display_name": "Python 3 (ipykernel)",
   "language": "python",
   "name": "python3"
  },
  "language_info": {
   "codemirror_mode": {
    "name": "ipython",
    "version": 3
   },
   "file_extension": ".py",
   "mimetype": "text/x-python",
   "name": "python",
   "nbconvert_exporter": "python",
   "pygments_lexer": "ipython3",
   "version": "3.12.7"
  }
 },
 "nbformat": 4,
 "nbformat_minor": 5
}
