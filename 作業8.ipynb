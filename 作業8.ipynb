{
  "nbformat": 4,
  "nbformat_minor": 0,
  "metadata": {
    "colab": {
      "provenance": [],
      "authorship_tag": "ABX9TyPIwJCSFHmDDdQQVM/o85GV",
      "include_colab_link": true
    },
    "kernelspec": {
      "name": "python3",
      "display_name": "Python 3"
    },
    "language_info": {
      "name": "python"
    }
  },
  "cells": [
    {
      "cell_type": "markdown",
      "metadata": {
        "id": "view-in-github",
        "colab_type": "text"
      },
      "source": [
        "<a href=\"https://colab.research.google.com/github/meteor0440/fin_data/blob/main/%E4%BD%9C%E6%A5%AD8.ipynb\" target=\"_parent\"><img src=\"https://colab.research.google.com/assets/colab-badge.svg\" alt=\"Open In Colab\"/></a>"
      ]
    },
    {
      "cell_type": "code",
      "execution_count": 1,
      "metadata": {
        "colab": {
          "base_uri": "https://localhost:8080/"
        },
        "id": "6XxhdfIkBqOg",
        "outputId": "19c09957-5751-4891-c8d1-6ea82c5b2fc4"
      },
      "outputs": [
        {
          "output_type": "stream",
          "name": "stdout",
          "text": [
            "T = 1.0, Call Price = 7.3253\n",
            "T = 0.9, Call Price = 6.7502\n",
            "T = 0.5, Call Price = 4.1281\n",
            "T = 0.3, Call Price = 2.5242\n",
            "T = 0.1, Call Price = 0.6167\n"
          ]
        }
      ],
      "source": [
        "import numpy as np\n",
        "import scipy.stats as si\n",
        "\n",
        "S = 90\n",
        "K = 100\n",
        "r = 0.01\n",
        "sigma = 0.3\n",
        "T_list = [1, 0.9, 0.5, 0.3, 0.1]\n",
        "\n",
        "for T in T_list:\n",
        "    d1 = (np.log(S/K) + (r + 0.5 * sigma**2) * T) / (sigma * np.sqrt(T))\n",
        "    d2 = d1 - sigma * np.sqrt(T)\n",
        "    call_price = S * si.norm.cdf(d1) - K * np.exp(-r * T) * si.norm.cdf(d2)\n",
        "    print(f\"T = {T:.1f}, Call Price = {call_price:.4f}\")"
      ]
    },
    {
      "cell_type": "code",
      "source": [
        "import numpy as np\n",
        "import scipy.stats as si\n",
        "import matplotlib.pyplot as plt\n",
        "\n",
        "plt.rcParams['font.family'] = 'Microsoft JhengHei'  # 設定中文字型\n",
        "plt.rcParams['axes.unicode_minus'] = False  # 正確顯示負號\n",
        "\n",
        "S = 90\n",
        "K = 100\n",
        "r = 0.01\n",
        "sigma = 0.3\n",
        "\n",
        "T_range = np.arange(0.1, 1.01, 0.01)\n",
        "call_prices = []\n",
        "\n",
        "for T in T_range:\n",
        "    d1 = (np.log(S/K) + (r + 0.5 * sigma**2) * T) / (sigma * np.sqrt(T))\n",
        "    d2 = d1 - sigma * np.sqrt(T)\n",
        "    call_price = S * si.norm.cdf(d1) - K * np.exp(-r * T) * si.norm.cdf(d2)\n",
        "    call_prices.append(call_price)\n",
        "\n",
        "plt.figure(figsize=(8, 5))\n",
        "plt.plot(T_range, call_prices, label='買權價格', color='blue')\n",
        "plt.xlabel('到期日 T')\n",
        "plt.ylabel('買權價格')\n",
        "plt.title('歐式買權價格隨到期日變化')\n",
        "plt.grid(True)\n",
        "plt.legend()\n",
        "plt.show()"
      ],
      "metadata": {
        "colab": {
          "base_uri": "https://localhost:8080/",
          "height": 1000
        },
        "id": "Wst79pRDBuN2",
        "outputId": "3d29d169-2d50-435f-b6fe-1ed32d0dcd7e"
      },
      "execution_count": 4,
      "outputs": [
        {
          "output_type": "stream",
          "name": "stderr",
          "text": [
            "WARNING:matplotlib.font_manager:findfont: Font family 'Microsoft JhengHei' not found.\n",
            "WARNING:matplotlib.font_manager:findfont: Font family 'Microsoft JhengHei' not found.\n",
            "WARNING:matplotlib.font_manager:findfont: Font family 'Microsoft JhengHei' not found.\n",
            "WARNING:matplotlib.font_manager:findfont: Font family 'Microsoft JhengHei' not found.\n",
            "WARNING:matplotlib.font_manager:findfont: Font family 'Microsoft JhengHei' not found.\n",
            "WARNING:matplotlib.font_manager:findfont: Font family 'Microsoft JhengHei' not found.\n",
            "WARNING:matplotlib.font_manager:findfont: Font family 'Microsoft JhengHei' not found.\n",
            "WARNING:matplotlib.font_manager:findfont: Font family 'Microsoft JhengHei' not found.\n",
            "WARNING:matplotlib.font_manager:findfont: Font family 'Microsoft JhengHei' not found.\n",
            "WARNING:matplotlib.font_manager:findfont: Font family 'Microsoft JhengHei' not found.\n",
            "WARNING:matplotlib.font_manager:findfont: Font family 'Microsoft JhengHei' not found.\n",
            "WARNING:matplotlib.font_manager:findfont: Font family 'Microsoft JhengHei' not found.\n",
            "WARNING:matplotlib.font_manager:findfont: Font family 'Microsoft JhengHei' not found.\n",
            "WARNING:matplotlib.font_manager:findfont: Font family 'Microsoft JhengHei' not found.\n",
            "WARNING:matplotlib.font_manager:findfont: Font family 'Microsoft JhengHei' not found.\n",
            "WARNING:matplotlib.font_manager:findfont: Font family 'Microsoft JhengHei' not found.\n",
            "WARNING:matplotlib.font_manager:findfont: Font family 'Microsoft JhengHei' not found.\n",
            "WARNING:matplotlib.font_manager:findfont: Font family 'Microsoft JhengHei' not found.\n",
            "WARNING:matplotlib.font_manager:findfont: Font family 'Microsoft JhengHei' not found.\n",
            "WARNING:matplotlib.font_manager:findfont: Font family 'Microsoft JhengHei' not found.\n",
            "WARNING:matplotlib.font_manager:findfont: Font family 'Microsoft JhengHei' not found.\n",
            "WARNING:matplotlib.font_manager:findfont: Font family 'Microsoft JhengHei' not found.\n",
            "WARNING:matplotlib.font_manager:findfont: Font family 'Microsoft JhengHei' not found.\n",
            "WARNING:matplotlib.font_manager:findfont: Font family 'Microsoft JhengHei' not found.\n",
            "WARNING:matplotlib.font_manager:findfont: Font family 'Microsoft JhengHei' not found.\n",
            "WARNING:matplotlib.font_manager:findfont: Font family 'Microsoft JhengHei' not found.\n",
            "WARNING:matplotlib.font_manager:findfont: Font family 'Microsoft JhengHei' not found.\n",
            "WARNING:matplotlib.font_manager:findfont: Font family 'Microsoft JhengHei' not found.\n",
            "WARNING:matplotlib.font_manager:findfont: Font family 'Microsoft JhengHei' not found.\n",
            "WARNING:matplotlib.font_manager:findfont: Font family 'Microsoft JhengHei' not found.\n",
            "WARNING:matplotlib.font_manager:findfont: Font family 'Microsoft JhengHei' not found.\n",
            "WARNING:matplotlib.font_manager:findfont: Font family 'Microsoft JhengHei' not found.\n",
            "WARNING:matplotlib.font_manager:findfont: Font family 'Microsoft JhengHei' not found.\n",
            "WARNING:matplotlib.font_manager:findfont: Font family 'Microsoft JhengHei' not found.\n",
            "WARNING:matplotlib.font_manager:findfont: Font family 'Microsoft JhengHei' not found.\n",
            "WARNING:matplotlib.font_manager:findfont: Font family 'Microsoft JhengHei' not found.\n",
            "WARNING:matplotlib.font_manager:findfont: Font family 'Microsoft JhengHei' not found.\n",
            "WARNING:matplotlib.font_manager:findfont: Font family 'Microsoft JhengHei' not found.\n",
            "WARNING:matplotlib.font_manager:findfont: Font family 'Microsoft JhengHei' not found.\n",
            "WARNING:matplotlib.font_manager:findfont: Font family 'Microsoft JhengHei' not found.\n",
            "WARNING:matplotlib.font_manager:findfont: Font family 'Microsoft JhengHei' not found.\n",
            "WARNING:matplotlib.font_manager:findfont: Font family 'Microsoft JhengHei' not found.\n",
            "WARNING:matplotlib.font_manager:findfont: Font family 'Microsoft JhengHei' not found.\n",
            "WARNING:matplotlib.font_manager:findfont: Font family 'Microsoft JhengHei' not found.\n",
            "WARNING:matplotlib.font_manager:findfont: Font family 'Microsoft JhengHei' not found.\n",
            "WARNING:matplotlib.font_manager:findfont: Font family 'Microsoft JhengHei' not found.\n",
            "WARNING:matplotlib.font_manager:findfont: Font family 'Microsoft JhengHei' not found.\n",
            "WARNING:matplotlib.font_manager:findfont: Font family 'Microsoft JhengHei' not found.\n",
            "WARNING:matplotlib.font_manager:findfont: Font family 'Microsoft JhengHei' not found.\n",
            "WARNING:matplotlib.font_manager:findfont: Font family 'Microsoft JhengHei' not found.\n",
            "WARNING:matplotlib.font_manager:findfont: Font family 'Microsoft JhengHei' not found.\n",
            "WARNING:matplotlib.font_manager:findfont: Font family 'Microsoft JhengHei' not found.\n",
            "WARNING:matplotlib.font_manager:findfont: Font family 'Microsoft JhengHei' not found.\n",
            "WARNING:matplotlib.font_manager:findfont: Font family 'Microsoft JhengHei' not found.\n",
            "WARNING:matplotlib.font_manager:findfont: Font family 'Microsoft JhengHei' not found.\n",
            "WARNING:matplotlib.font_manager:findfont: Font family 'Microsoft JhengHei' not found.\n",
            "WARNING:matplotlib.font_manager:findfont: Font family 'Microsoft JhengHei' not found.\n",
            "WARNING:matplotlib.font_manager:findfont: Font family 'Microsoft JhengHei' not found.\n",
            "WARNING:matplotlib.font_manager:findfont: Font family 'Microsoft JhengHei' not found.\n",
            "WARNING:matplotlib.font_manager:findfont: Font family 'Microsoft JhengHei' not found.\n",
            "WARNING:matplotlib.font_manager:findfont: Font family 'Microsoft JhengHei' not found.\n"
          ]
        },
        {
          "output_type": "display_data",
          "data": {
            "text/plain": [
              "<Figure size 800x500 with 1 Axes>"
            ],
            "image/png": "[encoded data removed]"
          },
          "metadata": {}
        }
      ]
    },
    {
      "cell_type": "code",
      "source": [],
      "metadata": {
        "id": "U6ZUrvjhByw9"
      },
      "execution_count": null,
      "outputs": []
    }
  ]
}