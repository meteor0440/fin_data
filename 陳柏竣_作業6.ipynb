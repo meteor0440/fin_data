{
  "nbformat": 4,
  "nbformat_minor": 0,
  "metadata": {
    "colab": {
      "provenance": [],
      "authorship_tag": "ABX9TyO+NQ0omuIvq5JGmkQ5M8Kv",
      "include_colab_link": true
    },
    "kernelspec": {
      "name": "python3",
      "display_name": "Python 3"
    },
    "language_info": {
      "name": "python"
    }
  },
  "cells": [
    {
      "cell_type": "markdown",
      "metadata": {
        "id": "view-in-github",
        "colab_type": "text"
      },
      "source": [
        "<a href=\"https://colab.research.google.com/github/meteor0440/fin_data/blob/main/%E9%99%B3%E6%9F%8F%E7%AB%A3_%E4%BD%9C%E6%A5%AD6.ipynb\" target=\"_parent\"><img src=\"https://colab.research.google.com/assets/colab-badge.svg\" alt=\"Open In Colab\"/></a>"
      ]
    },
    {
      "cell_type": "code",
      "execution_count": 14,
      "metadata": {
        "colab": {
          "base_uri": "https://localhost:8080/"
        },
        "id": "n9jKGfPwsxgf",
        "outputId": "03c6ac83-efdc-43af-9bb6-e1280b0c513e"
      },
      "outputs": [
        {
          "output_type": "stream",
          "name": "stdout",
          "text": [
            "Requirement already satisfied: yfinance in /usr/local/lib/python3.11/dist-packages (0.2.55)\n",
            "Requirement already satisfied: pandas>=1.3.0 in /usr/local/lib/python3.11/dist-packages (from yfinance) (2.2.2)\n",
            "Requirement already satisfied: numpy>=1.16.5 in /usr/local/lib/python3.11/dist-packages (from yfinance) (1.23.5)\n",
            "Requirement already satisfied: requests>=2.31 in /usr/local/lib/python3.11/dist-packages (from yfinance) (2.32.3)\n",
            "Requirement already satisfied: multitasking>=0.0.7 in /usr/local/lib/python3.11/dist-packages (from yfinance) (0.0.11)\n",
            "Requirement already satisfied: platformdirs>=2.0.0 in /usr/local/lib/python3.11/dist-packages (from yfinance) (4.3.7)\n",
            "Requirement already satisfied: pytz>=2022.5 in /usr/local/lib/python3.11/dist-packages (from yfinance) (2025.2)\n",
            "Requirement already satisfied: frozendict>=2.3.4 in /usr/local/lib/python3.11/dist-packages (from yfinance) (2.4.6)\n",
            "Requirement already satisfied: peewee>=3.16.2 in /usr/local/lib/python3.11/dist-packages (from yfinance) (3.17.3)\n",
            "Requirement already satisfied: beautifulsoup4>=4.11.1 in /usr/local/lib/python3.11/dist-packages (from yfinance) (4.13.3)\n",
            "Requirement already satisfied: soupsieve>1.2 in /usr/local/lib/python3.11/dist-packages (from beautifulsoup4>=4.11.1->yfinance) (2.6)\n",
            "Requirement already satisfied: typing-extensions>=4.0.0 in /usr/local/lib/python3.11/dist-packages (from beautifulsoup4>=4.11.1->yfinance) (4.13.1)\n",
            "Requirement already satisfied: python-dateutil>=2.8.2 in /usr/local/lib/python3.11/dist-packages (from pandas>=1.3.0->yfinance) (2.8.2)\n",
            "Requirement already satisfied: tzdata>=2022.7 in /usr/local/lib/python3.11/dist-packages (from pandas>=1.3.0->yfinance) (2025.2)\n",
            "Requirement already satisfied: charset-normalizer<4,>=2 in /usr/local/lib/python3.11/dist-packages (from requests>=2.31->yfinance) (3.4.1)\n",
            "Requirement already satisfied: idna<4,>=2.5 in /usr/local/lib/python3.11/dist-packages (from requests>=2.31->yfinance) (3.10)\n",
            "Requirement already satisfied: urllib3<3,>=1.21.1 in /usr/local/lib/python3.11/dist-packages (from requests>=2.31->yfinance) (2.3.0)\n",
            "Requirement already satisfied: certifi>=2017.4.17 in /usr/local/lib/python3.11/dist-packages (from requests>=2.31->yfinance) (2025.1.31)\n",
            "Requirement already satisfied: six>=1.5 in /usr/local/lib/python3.11/dist-packages (from python-dateutil>=2.8.2->pandas>=1.3.0->yfinance) (1.17.0)\n"
          ]
        },
        {
          "output_type": "stream",
          "name": "stderr",
          "text": [
            "\r[*********************100%***********************]  1 of 1 completed"
          ]
        },
        {
          "output_type": "stream",
          "name": "stdout",
          "text": [
            "Price        Close    High     Low    Open    Volume\n",
            "Ticker     2330.TW 2330.TW 2330.TW 2330.TW   2330.TW\n",
            "Date                                                \n",
            "2025-01-02  1065.0  1075.0  1055.0  1070.0  43177098\n",
            "2025-01-03  1075.0  1085.0  1075.0  1080.0  30415096\n",
            "2025-01-06  1125.0  1125.0  1095.0  1100.0  69289786\n",
            "2025-01-07  1130.0  1160.0  1130.0  1150.0  48758688\n",
            "2025-01-08  1105.0  1130.0  1105.0  1110.0  45211419\n",
            "2025-01-09  1100.0  1115.0  1100.0  1100.0  27263215\n",
            "2025-01-10  1100.0  1110.0  1100.0  1100.0  22021522\n",
            "2025-01-13  1075.0  1115.0  1070.0  1110.0  56690300\n",
            "2025-01-14  1090.0  1090.0  1075.0  1085.0  28695247\n",
            "2025-01-15  1065.0  1085.0  1065.0  1085.0  35489482\n",
            "2025-01-16  1105.0  1115.0  1090.0  1095.0  47542962\n",
            "2025-01-17  1120.0  1125.0  1095.0  1125.0  59214050\n",
            "2025-01-20  1120.0  1135.0  1120.0  1125.0  29834528\n",
            "2025-01-21  1120.0  1125.0  1110.0  1115.0  21904213\n",
            "2025-01-22  1135.0  1150.0  1135.0  1140.0  42960405\n",
            "2025-02-03  1070.0  1075.0  1060.0  1065.0  97946226\n",
            "2025-02-04  1095.0  1100.0  1080.0  1085.0  53308108\n",
            "2025-02-05  1110.0  1120.0  1105.0  1110.0  40385340\n",
            "2025-02-06  1115.0  1120.0  1105.0  1120.0  29971252\n",
            "2025-02-07  1125.0  1125.0  1105.0  1110.0  27883220\n",
            "2025-02-10  1105.0  1125.0  1095.0  1125.0  28527108\n",
            "2025-02-11  1110.0  1115.0  1100.0  1110.0  18898928\n",
            "2025-02-12  1100.0  1115.0  1100.0  1110.0  24172954\n",
            "2025-02-13  1090.0  1095.0  1080.0  1090.0  33210403\n",
            "2025-02-14  1060.0  1070.0  1060.0  1065.0  64486940\n",
            "2025-02-17  1085.0  1085.0  1065.0  1065.0  35491271\n",
            "2025-02-18  1100.0  1100.0  1080.0  1085.0  21616188\n",
            "2025-02-19  1090.0  1095.0  1085.0  1090.0  26400293\n",
            "2025-02-20  1080.0  1085.0  1070.0  1080.0  29643124\n",
            "2025-02-21  1095.0  1095.0  1080.0  1085.0  28972910\n",
            "2025-02-24  1075.0  1085.0  1075.0  1080.0  30822970\n",
            "2025-02-25  1055.0  1060.0  1050.0  1055.0  45158522\n",
            "2025-02-26  1060.0  1060.0  1045.0  1045.0  36768449\n",
            "2025-02-27  1040.0  1065.0  1040.0  1065.0  55283596\n",
            "2025-03-03  1020.0  1020.0  1000.0  1000.0  65621663\n",
            "2025-03-04  1000.0  1010.0   996.0   996.0  64569262\n",
            "2025-03-05  1020.0  1030.0  1015.0  1020.0  41994320\n",
            "2025-03-06  1005.0  1025.0  1005.0  1020.0  45187017\n",
            "2025-03-07  1005.0  1010.0  1000.0  1005.0  40822280\n",
            "2025-03-10   998.0  1005.0   992.0  1005.0  46849886\n",
            "2025-03-11   971.0   979.0   963.0   969.0  50204233\n",
            "2025-03-12   988.0   995.0   976.0   980.0  34184887\n",
            "2025-03-13   965.0  1005.0   965.0  1000.0  37035693\n",
            "2025-03-14   959.0   969.0   955.0   965.0  34333748\n",
            "2025-03-17   970.0   985.0   968.0   977.0  31491061\n",
            "2025-03-18   971.0   978.0   968.0   976.0  21575327\n",
            "2025-03-19   952.0   967.0   950.0   965.0  35245036\n",
            "2025-03-20   985.0   985.0   971.0   978.0  28715956\n",
            "2025-03-21   972.0   987.0   970.0   985.0  39214916\n",
            "2025-03-24   972.0   987.0   972.0   986.0  16121506\n",
            "2025-03-25   990.0   995.0   985.0   989.0  26167428\n",
            "2025-03-26   980.0   995.0   980.0   995.0  21735917\n",
            "2025-03-27   958.0   964.0   958.0   961.0  34563256\n",
            "2025-03-28   952.0   955.0   946.0   946.0  33101234\n"
          ]
        },
        {
          "output_type": "stream",
          "name": "stderr",
          "text": [
            "\n"
          ]
        }
      ],
      "source": [
        "!pip install yfinance\n",
        "import yfinance as yf\n",
        "stocks = [\"2330.TW\"]\n",
        "df = yf.download(stocks, start=\"2025-01-01\" ,end=\"2025-03-31\")\n",
        "df.to_excel(\"作業6.xlsx\")\n",
        "print(df)"
      ]
    }
  ]
}