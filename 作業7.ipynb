{
 "cells": [
  {
   "cell_type": "code",
   "execution_count": 3,
   "id": "879ec932-5582-40f5-93c9-3f56aee0d049",
   "metadata": {},
   "outputs": [
    {
     "name": "stdout",
     "output_type": "stream",
     "text": [
      "Fibonacci 數列到第 5 個數值：\n",
      "1,1,2,3,5\n",
      "比值為：\n",
      "1.0,2.0,1.5,1.667\n"
     ]
    }
   ],
   "source": [
    "def fibonacci(n):\n",
    "    if n <= 0:\n",
    "        print(\"請輸入大於0的整數\")\n",
    "        return\n",
    "\n",
    "    fib_seq = [1] if n == 1 else [1, 1]\n",
    "    for i in range(2, n):\n",
    "        fib_seq.append(fib_seq[-1] + fib_seq[-2])\n",
    "\n",
    "    print(\"Fibonacci 數列到第\", n, \"個數值：\")\n",
    "    print(','.join(map(str, fib_seq)))\n",
    "\n",
    "    if n > 1:\n",
    "        ratios = [round(fib_seq[i] / fib_seq[i - 1], 3) for i in range(1, n)]\n",
    "        print(\"比值為：\")\n",
    "        print(','.join(map(str, ratios)))\n",
    "\n",
    "# 範例：顯示到第5個費波那契數\n",
    "fibonacci(5)"
   ]
  },
  {
   "cell_type": "code",
   "execution_count": null,
   "id": "58e0dfe3-abb3-4c6a-801b-a90f59f44173",
   "metadata": {},
   "outputs": [],
   "source": []
  }
 ],
 "metadata": {
  "kernelspec": {
   "display_name": "Python 3 (ipykernel)",
   "language": "python",
   "name": "python3"
  },
  "language_info": {
   "codemirror_mode": {
    "name": "ipython",
    "version": 3
   },
   "file_extension": ".py",
   "mimetype": "text/x-python",
   "name": "python",
   "nbconvert_exporter": "python",
   "pygments_lexer": "ipython3",
   "version": "3.12.7"
  }
 },
 "nbformat": 4,
 "nbformat_minor": 5
}
